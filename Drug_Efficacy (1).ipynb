{
  "nbformat": 4,
  "nbformat_minor": 0,
  "metadata": {
    "colab": {
      "provenance": [],
      "collapsed_sections": [
        "fCZOU6suQ-6_"
      ]
    },
    "kernelspec": {
      "name": "python3",
      "display_name": "Python 3"
    },
    "language_info": {
      "name": "python"
    }
  },
  "cells": [
    {
      "cell_type": "markdown",
      "source": [
        "# Loading the libraries"
      ],
      "metadata": {
        "id": "zLEarhz4Q2Bd"
      }
    },
    {
      "cell_type": "code",
      "source": [
        "import numpy as np\n",
        "import pandas as pd\n",
        "import seaborn as sns\n",
        "import matplotlib.pyplot as plt\n",
        "from scipy import stats\n",
        "from scipy.stats import mannwhitneyu\n",
        "%matplotlib inline"
      ],
      "metadata": {
        "id": "UnpNcVGcQ696"
      },
      "execution_count": null,
      "outputs": []
    },
    {
      "cell_type": "code",
      "source": [
        "data=pd.read_csv('/content/Drug Efficacy - Dataset (1).csv')"
      ],
      "metadata": {
        "id": "vZ_F91H6ZHEG"
      },
      "execution_count": null,
      "outputs": []
    },
    {
      "cell_type": "code",
      "source": [
        "tab = pd.crosstab(data['drug_s']==1, data['pneumonia'])\n",
        "stats.chi2_contingency(tab)"
      ],
      "metadata": {
        "id": "uGdf-z4T3k6a",
        "outputId": "7426d673-839f-4ea6-d0f7-4ec64dff2e40",
        "colab": {
          "base_uri": "https://localhost:8080/"
        }
      },
      "execution_count": null,
      "outputs": [
        {
          "output_type": "execute_result",
          "data": {
            "text/plain": [
              "(13.72905859526507,\n",
              " 0.00021116198121411147,\n",
              " 1,\n",
              " array([[14507.6859731,   767.3140269],\n",
              "        [ 2792.3140269,   147.6859731]]))"
            ]
          },
          "metadata": {},
          "execution_count": 66
        }
      ]
    },
    {
      "cell_type": "code",
      "source": [
        "#setting up the dataframe for testing data difference\n",
        "drug_d_age = data[data['drug_s'] == 0]['index_age']\n",
        "drug_s_age = data[data['drug_s'] == 1]['index_age']"
      ],
      "metadata": {
        "id": "o9JSBXFeZC3F"
      },
      "execution_count": null,
      "outputs": []
    },
    {
      "cell_type": "code",
      "source": [
        "mannwhitneyu(drug_d_age, drug_s_age)"
      ],
      "metadata": {
        "id": "6V0yigoF3k90",
        "outputId": "566aa5b3-6302-42a5-b864-189c46dd6510",
        "colab": {
          "base_uri": "https://localhost:8080/"
        }
      },
      "execution_count": null,
      "outputs": [
        {
          "output_type": "execute_result",
          "data": {
            "text/plain": [
              "MannwhitneyuResult(statistic=21738938.5, pvalue=0.0061385387930819055)"
            ]
          },
          "metadata": {},
          "execution_count": 68
        }
      ]
    },
    {
      "cell_type": "code",
      "source": [],
      "metadata": {
        "id": "pvKRztBy3lAS"
      },
      "execution_count": null,
      "outputs": []
    },
    {
      "cell_type": "code",
      "source": [],
      "metadata": {
        "id": "cFjPYfkk3ngO"
      },
      "execution_count": null,
      "outputs": []
    },
    {
      "cell_type": "markdown",
      "source": [
        "# Loading the dataset"
      ],
      "metadata": {
        "id": "fCZOU6suQ-6_"
      }
    },
    {
      "cell_type": "code",
      "source": [
        "data=pd.read_csv('/content/Drug Efficacy - Dataset (1).csv')"
      ],
      "metadata": {
        "id": "5lVqdYdkP-2M"
      },
      "execution_count": null,
      "outputs": []
    },
    {
      "cell_type": "code",
      "source": [
        "data.head()"
      ],
      "metadata": {
        "colab": {
          "base_uri": "https://localhost:8080/",
          "height": 300
        },
        "id": "uw5Jo6npQCx3",
        "outputId": "7045a59b-9b53-48a1-bc52-9cf9c2bdc758"
      },
      "execution_count": null,
      "outputs": [
        {
          "output_type": "execute_result",
          "data": {
            "text/plain": [
              "        patid  index_age  previous_asthma_drugs  \\\n",
              "0  1073754155         14                      1   \n",
              "1  1073799394         21                      1   \n",
              "2  1073854918         62                      1   \n",
              "3  1073898249         30                      1   \n",
              "4  1073913003         40                      1   \n",
              "\n",
              "   total_pre_index_cannisters_365  post_index_exacerbations365  pneumonia  \\\n",
              "0                               1                            0          0   \n",
              "1                               2                            2          0   \n",
              "2                               0                            0          0   \n",
              "3                               2                            0          0   \n",
              "4                               1                            0          0   \n",
              "\n",
              "   sinusitis  acute_bronchitis  acute_laryngitis  upper_respiratory_infection  \\\n",
              "0          0                 1                 0                            1   \n",
              "1          1                 1                 0                            0   \n",
              "2          0                 0                 0                            0   \n",
              "3          0                 1                 0                            1   \n",
              "4          1                 0                 1                            1   \n",
              "\n",
              "   ...  rhinitis  adherence  total_pre_index_charge  pre_asthma_days  \\\n",
              "0  ...         0   0.084469             1224.767473                1   \n",
              "1  ...         1   0.084469            20290.534269                0   \n",
              "2  ...         0   0.738420             2964.254175                4   \n",
              "3  ...         0   0.084469             3223.708820                0   \n",
              "4  ...         1   0.506812             1287.254368                2   \n",
              "\n",
              "   pre_asthma_charge  pre_asthma_pharma_charge  drug_s  female  log_charges  \\\n",
              "0              314.0                    218.13       0       0     7.110506   \n",
              "1                0.0                     44.98       0       0     9.917910   \n",
              "2              480.0                     99.26       0       0     7.994381   \n",
              "3                0.0                     59.58       0       1     8.078288   \n",
              "4              689.0                     29.79       0       0     7.160267   \n",
              "\n",
              "   log_asthma_charge  \n",
              "0           5.385091  \n",
              "1           3.806218  \n",
              "2           4.597743  \n",
              "3           4.087320  \n",
              "4           3.394173  \n",
              "\n",
              "[5 rows x 21 columns]"
            ],
            "text/html": [
              "\n",
              "  <div id=\"df-f7f30058-8d29-4da1-9f0a-a2164e3a1cab\">\n",
              "    <div class=\"colab-df-container\">\n",
              "      <div>\n",
              "<style scoped>\n",
              "    .dataframe tbody tr th:only-of-type {\n",
              "        vertical-align: middle;\n",
              "    }\n",
              "\n",
              "    .dataframe tbody tr th {\n",
              "        vertical-align: top;\n",
              "    }\n",
              "\n",
              "    .dataframe thead th {\n",
              "        text-align: right;\n",
              "    }\n",
              "</style>\n",
              "<table border=\"1\" class=\"dataframe\">\n",
              "  <thead>\n",
              "    <tr style=\"text-align: right;\">\n",
              "      <th></th>\n",
              "      <th>patid</th>\n",
              "      <th>index_age</th>\n",
              "      <th>previous_asthma_drugs</th>\n",
              "      <th>total_pre_index_cannisters_365</th>\n",
              "      <th>post_index_exacerbations365</th>\n",
              "      <th>pneumonia</th>\n",
              "      <th>sinusitis</th>\n",
              "      <th>acute_bronchitis</th>\n",
              "      <th>acute_laryngitis</th>\n",
              "      <th>upper_respiratory_infection</th>\n",
              "      <th>...</th>\n",
              "      <th>rhinitis</th>\n",
              "      <th>adherence</th>\n",
              "      <th>total_pre_index_charge</th>\n",
              "      <th>pre_asthma_days</th>\n",
              "      <th>pre_asthma_charge</th>\n",
              "      <th>pre_asthma_pharma_charge</th>\n",
              "      <th>drug_s</th>\n",
              "      <th>female</th>\n",
              "      <th>log_charges</th>\n",
              "      <th>log_asthma_charge</th>\n",
              "    </tr>\n",
              "  </thead>\n",
              "  <tbody>\n",
              "    <tr>\n",
              "      <th>0</th>\n",
              "      <td>1073754155</td>\n",
              "      <td>14</td>\n",
              "      <td>1</td>\n",
              "      <td>1</td>\n",
              "      <td>0</td>\n",
              "      <td>0</td>\n",
              "      <td>0</td>\n",
              "      <td>1</td>\n",
              "      <td>0</td>\n",
              "      <td>1</td>\n",
              "      <td>...</td>\n",
              "      <td>0</td>\n",
              "      <td>0.084469</td>\n",
              "      <td>1224.767473</td>\n",
              "      <td>1</td>\n",
              "      <td>314.0</td>\n",
              "      <td>218.13</td>\n",
              "      <td>0</td>\n",
              "      <td>0</td>\n",
              "      <td>7.110506</td>\n",
              "      <td>5.385091</td>\n",
              "    </tr>\n",
              "    <tr>\n",
              "      <th>1</th>\n",
              "      <td>1073799394</td>\n",
              "      <td>21</td>\n",
              "      <td>1</td>\n",
              "      <td>2</td>\n",
              "      <td>2</td>\n",
              "      <td>0</td>\n",
              "      <td>1</td>\n",
              "      <td>1</td>\n",
              "      <td>0</td>\n",
              "      <td>0</td>\n",
              "      <td>...</td>\n",
              "      <td>1</td>\n",
              "      <td>0.084469</td>\n",
              "      <td>20290.534269</td>\n",
              "      <td>0</td>\n",
              "      <td>0.0</td>\n",
              "      <td>44.98</td>\n",
              "      <td>0</td>\n",
              "      <td>0</td>\n",
              "      <td>9.917910</td>\n",
              "      <td>3.806218</td>\n",
              "    </tr>\n",
              "    <tr>\n",
              "      <th>2</th>\n",
              "      <td>1073854918</td>\n",
              "      <td>62</td>\n",
              "      <td>1</td>\n",
              "      <td>0</td>\n",
              "      <td>0</td>\n",
              "      <td>0</td>\n",
              "      <td>0</td>\n",
              "      <td>0</td>\n",
              "      <td>0</td>\n",
              "      <td>0</td>\n",
              "      <td>...</td>\n",
              "      <td>0</td>\n",
              "      <td>0.738420</td>\n",
              "      <td>2964.254175</td>\n",
              "      <td>4</td>\n",
              "      <td>480.0</td>\n",
              "      <td>99.26</td>\n",
              "      <td>0</td>\n",
              "      <td>0</td>\n",
              "      <td>7.994381</td>\n",
              "      <td>4.597743</td>\n",
              "    </tr>\n",
              "    <tr>\n",
              "      <th>3</th>\n",
              "      <td>1073898249</td>\n",
              "      <td>30</td>\n",
              "      <td>1</td>\n",
              "      <td>2</td>\n",
              "      <td>0</td>\n",
              "      <td>0</td>\n",
              "      <td>0</td>\n",
              "      <td>1</td>\n",
              "      <td>0</td>\n",
              "      <td>1</td>\n",
              "      <td>...</td>\n",
              "      <td>0</td>\n",
              "      <td>0.084469</td>\n",
              "      <td>3223.708820</td>\n",
              "      <td>0</td>\n",
              "      <td>0.0</td>\n",
              "      <td>59.58</td>\n",
              "      <td>0</td>\n",
              "      <td>1</td>\n",
              "      <td>8.078288</td>\n",
              "      <td>4.087320</td>\n",
              "    </tr>\n",
              "    <tr>\n",
              "      <th>4</th>\n",
              "      <td>1073913003</td>\n",
              "      <td>40</td>\n",
              "      <td>1</td>\n",
              "      <td>1</td>\n",
              "      <td>0</td>\n",
              "      <td>0</td>\n",
              "      <td>1</td>\n",
              "      <td>0</td>\n",
              "      <td>1</td>\n",
              "      <td>1</td>\n",
              "      <td>...</td>\n",
              "      <td>1</td>\n",
              "      <td>0.506812</td>\n",
              "      <td>1287.254368</td>\n",
              "      <td>2</td>\n",
              "      <td>689.0</td>\n",
              "      <td>29.79</td>\n",
              "      <td>0</td>\n",
              "      <td>0</td>\n",
              "      <td>7.160267</td>\n",
              "      <td>3.394173</td>\n",
              "    </tr>\n",
              "  </tbody>\n",
              "</table>\n",
              "<p>5 rows × 21 columns</p>\n",
              "</div>\n",
              "      <button class=\"colab-df-convert\" onclick=\"convertToInteractive('df-f7f30058-8d29-4da1-9f0a-a2164e3a1cab')\"\n",
              "              title=\"Convert this dataframe to an interactive table.\"\n",
              "              style=\"display:none;\">\n",
              "        \n",
              "  <svg xmlns=\"http://www.w3.org/2000/svg\" height=\"24px\"viewBox=\"0 0 24 24\"\n",
              "       width=\"24px\">\n",
              "    <path d=\"M0 0h24v24H0V0z\" fill=\"none\"/>\n",
              "    <path d=\"M18.56 5.44l.94 2.06.94-2.06 2.06-.94-2.06-.94-.94-2.06-.94 2.06-2.06.94zm-11 1L8.5 8.5l.94-2.06 2.06-.94-2.06-.94L8.5 2.5l-.94 2.06-2.06.94zm10 10l.94 2.06.94-2.06 2.06-.94-2.06-.94-.94-2.06-.94 2.06-2.06.94z\"/><path d=\"M17.41 7.96l-1.37-1.37c-.4-.4-.92-.59-1.43-.59-.52 0-1.04.2-1.43.59L10.3 9.45l-7.72 7.72c-.78.78-.78 2.05 0 2.83L4 21.41c.39.39.9.59 1.41.59.51 0 1.02-.2 1.41-.59l7.78-7.78 2.81-2.81c.8-.78.8-2.07 0-2.86zM5.41 20L4 18.59l7.72-7.72 1.47 1.35L5.41 20z\"/>\n",
              "  </svg>\n",
              "      </button>\n",
              "      \n",
              "  <style>\n",
              "    .colab-df-container {\n",
              "      display:flex;\n",
              "      flex-wrap:wrap;\n",
              "      gap: 12px;\n",
              "    }\n",
              "\n",
              "    .colab-df-convert {\n",
              "      background-color: #E8F0FE;\n",
              "      border: none;\n",
              "      border-radius: 50%;\n",
              "      cursor: pointer;\n",
              "      display: none;\n",
              "      fill: #1967D2;\n",
              "      height: 32px;\n",
              "      padding: 0 0 0 0;\n",
              "      width: 32px;\n",
              "    }\n",
              "\n",
              "    .colab-df-convert:hover {\n",
              "      background-color: #E2EBFA;\n",
              "      box-shadow: 0px 1px 2px rgba(60, 64, 67, 0.3), 0px 1px 3px 1px rgba(60, 64, 67, 0.15);\n",
              "      fill: #174EA6;\n",
              "    }\n",
              "\n",
              "    [theme=dark] .colab-df-convert {\n",
              "      background-color: #3B4455;\n",
              "      fill: #D2E3FC;\n",
              "    }\n",
              "\n",
              "    [theme=dark] .colab-df-convert:hover {\n",
              "      background-color: #434B5C;\n",
              "      box-shadow: 0px 1px 3px 1px rgba(0, 0, 0, 0.15);\n",
              "      filter: drop-shadow(0px 1px 2px rgba(0, 0, 0, 0.3));\n",
              "      fill: #FFFFFF;\n",
              "    }\n",
              "  </style>\n",
              "\n",
              "      <script>\n",
              "        const buttonEl =\n",
              "          document.querySelector('#df-f7f30058-8d29-4da1-9f0a-a2164e3a1cab button.colab-df-convert');\n",
              "        buttonEl.style.display =\n",
              "          google.colab.kernel.accessAllowed ? 'block' : 'none';\n",
              "\n",
              "        async function convertToInteractive(key) {\n",
              "          const element = document.querySelector('#df-f7f30058-8d29-4da1-9f0a-a2164e3a1cab');\n",
              "          const dataTable =\n",
              "            await google.colab.kernel.invokeFunction('convertToInteractive',\n",
              "                                                     [key], {});\n",
              "          if (!dataTable) return;\n",
              "\n",
              "          const docLinkHtml = 'Like what you see? Visit the ' +\n",
              "            '<a target=\"_blank\" href=https://colab.research.google.com/notebooks/data_table.ipynb>data table notebook</a>'\n",
              "            + ' to learn more about interactive tables.';\n",
              "          element.innerHTML = '';\n",
              "          dataTable['output_type'] = 'display_data';\n",
              "          await google.colab.output.renderOutput(dataTable, element);\n",
              "          const docLink = document.createElement('div');\n",
              "          docLink.innerHTML = docLinkHtml;\n",
              "          element.appendChild(docLink);\n",
              "        }\n",
              "      </script>\n",
              "    </div>\n",
              "  </div>\n",
              "  "
            ]
          },
          "metadata": {},
          "execution_count": 70
        }
      ]
    },
    {
      "cell_type": "code",
      "source": [
        "data['post_index_exacerbations365'].value_counts()"
      ],
      "metadata": {
        "colab": {
          "base_uri": "https://localhost:8080/"
        },
        "id": "t1Pb9UcR_zmh",
        "outputId": "4437d208-c2be-43c9-b978-f66dcf32e59b"
      },
      "execution_count": null,
      "outputs": [
        {
          "output_type": "execute_result",
          "data": {
            "text/plain": [
              "0     16124\n",
              "1      1525\n",
              "2       333\n",
              "3       115\n",
              "4        48\n",
              "5        32\n",
              "6        12\n",
              "8         9\n",
              "7         9\n",
              "9         3\n",
              "10        2\n",
              "12        1\n",
              "13        1\n",
              "14        1\n",
              "Name: post_index_exacerbations365, dtype: int64"
            ]
          },
          "metadata": {},
          "execution_count": 127
        }
      ]
    },
    {
      "cell_type": "code",
      "source": [
        "sns.countplot(data['post_index_exacerbations365'])"
      ],
      "metadata": {
        "colab": {
          "base_uri": "https://localhost:8080/",
          "height": 352
        },
        "id": "8Z1jO_ATAfhJ",
        "outputId": "970cda75-c7f3-4c2d-96c5-362641487d6e"
      },
      "execution_count": null,
      "outputs": [
        {
          "output_type": "stream",
          "name": "stderr",
          "text": [
            "/usr/local/lib/python3.8/dist-packages/seaborn/_decorators.py:36: FutureWarning: Pass the following variable as a keyword arg: x. From version 0.12, the only valid positional argument will be `data`, and passing other arguments without an explicit keyword will result in an error or misinterpretation.\n",
            "  warnings.warn(\n"
          ]
        },
        {
          "output_type": "execute_result",
          "data": {
            "text/plain": [
              "<matplotlib.axes._subplots.AxesSubplot at 0x7f9d1eb2e8b0>"
            ]
          },
          "metadata": {},
          "execution_count": 128
        },
        {
          "output_type": "display_data",
          "data": {
            "text/plain": [
              "<Figure size 432x288 with 1 Axes>"
            ],
            "image/png": "[encoded data removed]"
          },
          "metadata": {
            "needs_background": "light"
          }
        }
      ]
    },
    {
      "cell_type": "code",
      "source": [
        "sns.countplot(data[data['drug_s']==0]['post_index_exacerbations365'])"
      ],
      "metadata": {
        "colab": {
          "base_uri": "https://localhost:8080/",
          "height": 354
        },
        "id": "3QnoqPW2BBLA",
        "outputId": "3c285803-2310-4de2-ada7-2652a1d6a558"
      },
      "execution_count": null,
      "outputs": [
        {
          "output_type": "stream",
          "name": "stderr",
          "text": [
            "/usr/local/lib/python3.8/dist-packages/seaborn/_decorators.py:36: FutureWarning: Pass the following variable as a keyword arg: x. From version 0.12, the only valid positional argument will be `data`, and passing other arguments without an explicit keyword will result in an error or misinterpretation.\n",
            "  warnings.warn(\n"
          ]
        },
        {
          "output_type": "execute_result",
          "data": {
            "text/plain": [
              "<matplotlib.axes._subplots.AxesSubplot at 0x7f9d1e9f00a0>"
            ]
          },
          "metadata": {},
          "execution_count": 131
        },
        {
          "output_type": "display_data",
          "data": {
            "text/plain": [
              "<Figure size 432x288 with 1 Axes>"
            ],
            "image/png": "[encoded data removed]"
          },
          "metadata": {
            "needs_background": "light"
          }
        }
      ]
    },
    {
      "cell_type": "code",
      "source": [
        "sns.countplot(data[data['drug_s']==1]['post_index_exacerbations365'])"
      ],
      "metadata": {
        "colab": {
          "base_uri": "https://localhost:8080/",
          "height": 352
        },
        "id": "nfr3iGSUBa5D",
        "outputId": "6c92e58c-60a0-4993-918e-44bf797c19e0"
      },
      "execution_count": null,
      "outputs": [
        {
          "output_type": "stream",
          "name": "stderr",
          "text": [
            "/usr/local/lib/python3.8/dist-packages/seaborn/_decorators.py:36: FutureWarning: Pass the following variable as a keyword arg: x. From version 0.12, the only valid positional argument will be `data`, and passing other arguments without an explicit keyword will result in an error or misinterpretation.\n",
            "  warnings.warn(\n"
          ]
        },
        {
          "output_type": "execute_result",
          "data": {
            "text/plain": [
              "<matplotlib.axes._subplots.AxesSubplot at 0x7f9d1eaafe20>"
            ]
          },
          "metadata": {},
          "execution_count": 132
        },
        {
          "output_type": "display_data",
          "data": {
            "text/plain": [
              "<Figure size 432x288 with 1 Axes>"
            ],
            "image/png": "[encoded data removed]"
          },
          "metadata": {
            "needs_background": "light"
          }
        }
      ]
    },
    {
      "cell_type": "code",
      "source": [
        "data.info()\n",
        "#total 18125 non null values for each variable\n",
        "#we can see that factor variables have been treated as numeric variables and hence we convert them to factor variables"
      ],
      "metadata": {
        "colab": {
          "base_uri": "https://localhost:8080/"
        },
        "id": "XNgaYNqYRDWF",
        "outputId": "0c3655f3-89ed-493b-ba9b-125f9605df22"
      },
      "execution_count": null,
      "outputs": [
        {
          "output_type": "stream",
          "name": "stdout",
          "text": [
            "<class 'pandas.core.frame.DataFrame'>\n",
            "RangeIndex: 18215 entries, 0 to 18214\n",
            "Data columns (total 21 columns):\n",
            " #   Column                          Non-Null Count  Dtype  \n",
            "---  ------                          --------------  -----  \n",
            " 0   patid                           18215 non-null  int64  \n",
            " 1   index_age                       18215 non-null  int64  \n",
            " 2   previous_asthma_drugs           18215 non-null  int64  \n",
            " 3   total_pre_index_cannisters_365  18215 non-null  int64  \n",
            " 4   post_index_exacerbations365     18215 non-null  int64  \n",
            " 5   pneumonia                       18215 non-null  int64  \n",
            " 6   sinusitis                       18215 non-null  int64  \n",
            " 7   acute_bronchitis                18215 non-null  int64  \n",
            " 8   acute_laryngitis                18215 non-null  int64  \n",
            " 9   upper_respiratory_infection     18215 non-null  int64  \n",
            " 10  gerd                            18215 non-null  int64  \n",
            " 11  rhinitis                        18215 non-null  int64  \n",
            " 12  adherence                       18215 non-null  float64\n",
            " 13  total_pre_index_charge          18215 non-null  float64\n",
            " 14  pre_asthma_days                 18215 non-null  int64  \n",
            " 15  pre_asthma_charge               18215 non-null  float64\n",
            " 16  pre_asthma_pharma_charge        18215 non-null  float64\n",
            " 17  drug_s                          18215 non-null  int64  \n",
            " 18  female                          18215 non-null  int64  \n",
            " 19  log_charges                     18215 non-null  float64\n",
            " 20  log_asthma_charge               18215 non-null  float64\n",
            "dtypes: float64(6), int64(15)\n",
            "memory usage: 2.9 MB\n"
          ]
        }
      ]
    },
    {
      "cell_type": "code",
      "source": [
        "(data.columns)"
      ],
      "metadata": {
        "colab": {
          "base_uri": "https://localhost:8080/"
        },
        "id": "HQmHtUM_awJr",
        "outputId": "c98c8e0a-9aa7-4dfb-bd9d-18ef2dfe49ae"
      },
      "execution_count": null,
      "outputs": [
        {
          "output_type": "execute_result",
          "data": {
            "text/plain": [
              "Index(['patid', 'index_age', 'previous_asthma_drugs',\n",
              "       'total_pre_index_cannisters_365', 'post_index_exacerbations365',\n",
              "       'pneumonia', 'sinusitis', 'acute_bronchitis', 'acute_laryngitis',\n",
              "       'upper_respiratory_infection', 'gerd', 'rhinitis', 'adherence',\n",
              "       'total_pre_index_charge', 'pre_asthma_days', 'pre_asthma_charge',\n",
              "       'pre_asthma_pharma_charge', 'drug_s', 'female', 'log_charges',\n",
              "       'log_asthma_charge'],\n",
              "      dtype='object')"
            ]
          },
          "metadata": {},
          "execution_count": 72
        }
      ]
    },
    {
      "cell_type": "code",
      "source": [
        "data['acute_bronchitis']=data['acute_bronchitis'].astype(object)\n",
        "data['acute_laryngitis']=data['acute_laryngitis'].astype(object)\n",
        "data['female']=data['female'].astype(object)\n",
        "data['gerd']=data['gerd'].astype(object)\n",
        "data['pneumonia']=data['pneumonia'].astype(object)\n",
        "data['rhinitis']=data['rhinitis'].astype(object)\n",
        "data['sinusitis']=data['sinusitis'].astype(object)\n",
        "data['upper_respiratory_infection']=data['upper_respiratory_infection'].astype(object)\n",
        "data['drug_s']=data['drug_s'].astype(object)"
      ],
      "metadata": {
        "id": "1INwd7xEatTU"
      },
      "execution_count": null,
      "outputs": []
    },
    {
      "cell_type": "code",
      "source": [
        "cols = len(data.axes[1])\n",
        "cols"
      ],
      "metadata": {
        "colab": {
          "base_uri": "https://localhost:8080/"
        },
        "id": "3G8Wv72pUW82",
        "outputId": "70c142de-2e50-4d69-ce0d-d57aed731aa2"
      },
      "execution_count": null,
      "outputs": [
        {
          "output_type": "execute_result",
          "data": {
            "text/plain": [
              "21"
            ]
          },
          "metadata": {},
          "execution_count": 74
        }
      ]
    },
    {
      "cell_type": "code",
      "source": [
        "data['patid'].nunique()\n",
        "#all patient ids are unique hence in total we have 18215 patients"
      ],
      "metadata": {
        "colab": {
          "base_uri": "https://localhost:8080/"
        },
        "id": "FVkYmZqIRcDs",
        "outputId": "ea5b917b-9608-47d5-b78e-9dafd9b725e5"
      },
      "execution_count": null,
      "outputs": [
        {
          "output_type": "execute_result",
          "data": {
            "text/plain": [
              "18215"
            ]
          },
          "metadata": {},
          "execution_count": 75
        }
      ]
    },
    {
      "cell_type": "code",
      "source": [
        "data.describe() "
      ],
      "metadata": {
        "colab": {
          "base_uri": "https://localhost:8080/",
          "height": 364
        },
        "id": "ztb2qBGHRL_B",
        "outputId": "99a55091-50e4-4324-f18d-f1d4933855bf"
      },
      "execution_count": null,
      "outputs": [
        {
          "output_type": "execute_result",
          "data": {
            "text/plain": [
              "              patid     index_age  previous_asthma_drugs  \\\n",
              "count  1.821500e+04  18215.000000                18215.0   \n",
              "mean   1.317073e+09     38.304639                    1.0   \n",
              "std    1.545708e+08     15.218165                    0.0   \n",
              "min    1.073754e+09     12.000000                    1.0   \n",
              "25%    1.183442e+09     26.000000                    1.0   \n",
              "50%    1.282389e+09     41.000000                    1.0   \n",
              "75%    1.493699e+09     50.000000                    1.0   \n",
              "max    1.771899e+09     65.000000                    1.0   \n",
              "\n",
              "       total_pre_index_cannisters_365  post_index_exacerbations365  \\\n",
              "count                    18215.000000                 18215.000000   \n",
              "mean                         0.793741                     0.174636   \n",
              "std                          0.723497                     0.633318   \n",
              "min                          0.000000                     0.000000   \n",
              "25%                          0.000000                     0.000000   \n",
              "50%                          1.000000                     0.000000   \n",
              "75%                          1.000000                     0.000000   \n",
              "max                          2.000000                    14.000000   \n",
              "\n",
              "          adherence  total_pre_index_charge  pre_asthma_days  \\\n",
              "count  18215.000000            18215.000000     18215.000000   \n",
              "mean       0.249604             8524.835020         1.414768   \n",
              "std        0.227596            21011.123711         2.457226   \n",
              "min        0.005450                1.000000         0.000000   \n",
              "25%        0.084469             1227.034917         0.000000   \n",
              "50%        0.168937             3154.941039         1.000000   \n",
              "75%        0.337875             8142.123760         2.000000   \n",
              "max        1.000000           875872.580590        71.000000   \n",
              "\n",
              "       pre_asthma_charge  pre_asthma_pharma_charge   log_charges  \\\n",
              "count       18215.000000              18215.000000  18215.000000   \n",
              "mean          547.894775                244.820223      7.984189   \n",
              "std          1940.953263                448.771943      1.649031   \n",
              "min             0.000000                  1.000000      0.000000   \n",
              "25%             0.000000                 21.410000      7.112356   \n",
              "50%           130.000000                 46.300000      8.056725   \n",
              "75%           410.085000                229.560000      9.004806   \n",
              "max         79280.910000               5463.140000     13.682976   \n",
              "\n",
              "       log_asthma_charge  \n",
              "count       18215.000000  \n",
              "mean            4.200143  \n",
              "std             1.710356  \n",
              "min             0.000000  \n",
              "25%             3.063858  \n",
              "50%             3.835142  \n",
              "75%             5.436164  \n",
              "max             8.605779  "
            ],
            "text/html": [
              "\n",
              "  <div id=\"df-8b844ffa-e4f1-4bdf-bf71-13c6b6ccfbd2\">\n",
              "    <div class=\"colab-df-container\">\n",
              "      <div>\n",
              "<style scoped>\n",
              "    .dataframe tbody tr th:only-of-type {\n",
              "        vertical-align: middle;\n",
              "    }\n",
              "\n",
              "    .dataframe tbody tr th {\n",
              "        vertical-align: top;\n",
              "    }\n",
              "\n",
              "    .dataframe thead th {\n",
              "        text-align: right;\n",
              "    }\n",
              "</style>\n",
              "<table border=\"1\" class=\"dataframe\">\n",
              "  <thead>\n",
              "    <tr style=\"text-align: right;\">\n",
              "      <th></th>\n",
              "      <th>patid</th>\n",
              "      <th>index_age</th>\n",
              "      <th>previous_asthma_drugs</th>\n",
              "      <th>total_pre_index_cannisters_365</th>\n",
              "      <th>post_index_exacerbations365</th>\n",
              "      <th>adherence</th>\n",
              "      <th>total_pre_index_charge</th>\n",
              "      <th>pre_asthma_days</th>\n",
              "      <th>pre_asthma_charge</th>\n",
              "      <th>pre_asthma_pharma_charge</th>\n",
              "      <th>log_charges</th>\n",
              "      <th>log_asthma_charge</th>\n",
              "    </tr>\n",
              "  </thead>\n",
              "  <tbody>\n",
              "    <tr>\n",
              "      <th>count</th>\n",
              "      <td>1.821500e+04</td>\n",
              "      <td>18215.000000</td>\n",
              "      <td>18215.0</td>\n",
              "      <td>18215.000000</td>\n",
              "      <td>18215.000000</td>\n",
              "      <td>18215.000000</td>\n",
              "      <td>18215.000000</td>\n",
              "      <td>18215.000000</td>\n",
              "      <td>18215.000000</td>\n",
              "      <td>18215.000000</td>\n",
              "      <td>18215.000000</td>\n",
              "      <td>18215.000000</td>\n",
              "    </tr>\n",
              "    <tr>\n",
              "      <th>mean</th>\n",
              "      <td>1.317073e+09</td>\n",
              "      <td>38.304639</td>\n",
              "      <td>1.0</td>\n",
              "      <td>0.793741</td>\n",
              "      <td>0.174636</td>\n",
              "      <td>0.249604</td>\n",
              "      <td>8524.835020</td>\n",
              "      <td>1.414768</td>\n",
              "      <td>547.894775</td>\n",
              "      <td>244.820223</td>\n",
              "      <td>7.984189</td>\n",
              "      <td>4.200143</td>\n",
              "    </tr>\n",
              "    <tr>\n",
              "      <th>std</th>\n",
              "      <td>1.545708e+08</td>\n",
              "      <td>15.218165</td>\n",
              "      <td>0.0</td>\n",
              "      <td>0.723497</td>\n",
              "      <td>0.633318</td>\n",
              "      <td>0.227596</td>\n",
              "      <td>21011.123711</td>\n",
              "      <td>2.457226</td>\n",
              "      <td>1940.953263</td>\n",
              "      <td>448.771943</td>\n",
              "      <td>1.649031</td>\n",
              "      <td>1.710356</td>\n",
              "    </tr>\n",
              "    <tr>\n",
              "      <th>min</th>\n",
              "      <td>1.073754e+09</td>\n",
              "      <td>12.000000</td>\n",
              "      <td>1.0</td>\n",
              "      <td>0.000000</td>\n",
              "      <td>0.000000</td>\n",
              "      <td>0.005450</td>\n",
              "      <td>1.000000</td>\n",
              "      <td>0.000000</td>\n",
              "      <td>0.000000</td>\n",
              "      <td>1.000000</td>\n",
              "      <td>0.000000</td>\n",
              "      <td>0.000000</td>\n",
              "    </tr>\n",
              "    <tr>\n",
              "      <th>25%</th>\n",
              "      <td>1.183442e+09</td>\n",
              "      <td>26.000000</td>\n",
              "      <td>1.0</td>\n",
              "      <td>0.000000</td>\n",
              "      <td>0.000000</td>\n",
              "      <td>0.084469</td>\n",
              "      <td>1227.034917</td>\n",
              "      <td>0.000000</td>\n",
              "      <td>0.000000</td>\n",
              "      <td>21.410000</td>\n",
              "      <td>7.112356</td>\n",
              "      <td>3.063858</td>\n",
              "    </tr>\n",
              "    <tr>\n",
              "      <th>50%</th>\n",
              "      <td>1.282389e+09</td>\n",
              "      <td>41.000000</td>\n",
              "      <td>1.0</td>\n",
              "      <td>1.000000</td>\n",
              "      <td>0.000000</td>\n",
              "      <td>0.168937</td>\n",
              "      <td>3154.941039</td>\n",
              "      <td>1.000000</td>\n",
              "      <td>130.000000</td>\n",
              "      <td>46.300000</td>\n",
              "      <td>8.056725</td>\n",
              "      <td>3.835142</td>\n",
              "    </tr>\n",
              "    <tr>\n",
              "      <th>75%</th>\n",
              "      <td>1.493699e+09</td>\n",
              "      <td>50.000000</td>\n",
              "      <td>1.0</td>\n",
              "      <td>1.000000</td>\n",
              "      <td>0.000000</td>\n",
              "      <td>0.337875</td>\n",
              "      <td>8142.123760</td>\n",
              "      <td>2.000000</td>\n",
              "      <td>410.085000</td>\n",
              "      <td>229.560000</td>\n",
              "      <td>9.004806</td>\n",
              "      <td>5.436164</td>\n",
              "    </tr>\n",
              "    <tr>\n",
              "      <th>max</th>\n",
              "      <td>1.771899e+09</td>\n",
              "      <td>65.000000</td>\n",
              "      <td>1.0</td>\n",
              "      <td>2.000000</td>\n",
              "      <td>14.000000</td>\n",
              "      <td>1.000000</td>\n",
              "      <td>875872.580590</td>\n",
              "      <td>71.000000</td>\n",
              "      <td>79280.910000</td>\n",
              "      <td>5463.140000</td>\n",
              "      <td>13.682976</td>\n",
              "      <td>8.605779</td>\n",
              "    </tr>\n",
              "  </tbody>\n",
              "</table>\n",
              "</div>\n",
              "      <button class=\"colab-df-convert\" onclick=\"convertToInteractive('df-8b844ffa-e4f1-4bdf-bf71-13c6b6ccfbd2')\"\n",
              "              title=\"Convert this dataframe to an interactive table.\"\n",
              "              style=\"display:none;\">\n",
              "        \n",
              "  <svg xmlns=\"http://www.w3.org/2000/svg\" height=\"24px\"viewBox=\"0 0 24 24\"\n",
              "       width=\"24px\">\n",
              "    <path d=\"M0 0h24v24H0V0z\" fill=\"none\"/>\n",
              "    <path d=\"M18.56 5.44l.94 2.06.94-2.06 2.06-.94-2.06-.94-.94-2.06-.94 2.06-2.06.94zm-11 1L8.5 8.5l.94-2.06 2.06-.94-2.06-.94L8.5 2.5l-.94 2.06-2.06.94zm10 10l.94 2.06.94-2.06 2.06-.94-2.06-.94-.94-2.06-.94 2.06-2.06.94z\"/><path d=\"M17.41 7.96l-1.37-1.37c-.4-.4-.92-.59-1.43-.59-.52 0-1.04.2-1.43.59L10.3 9.45l-7.72 7.72c-.78.78-.78 2.05 0 2.83L4 21.41c.39.39.9.59 1.41.59.51 0 1.02-.2 1.41-.59l7.78-7.78 2.81-2.81c.8-.78.8-2.07 0-2.86zM5.41 20L4 18.59l7.72-7.72 1.47 1.35L5.41 20z\"/>\n",
              "  </svg>\n",
              "      </button>\n",
              "      \n",
              "  <style>\n",
              "    .colab-df-container {\n",
              "      display:flex;\n",
              "      flex-wrap:wrap;\n",
              "      gap: 12px;\n",
              "    }\n",
              "\n",
              "    .colab-df-convert {\n",
              "      background-color: #E8F0FE;\n",
              "      border: none;\n",
              "      border-radius: 50%;\n",
              "      cursor: pointer;\n",
              "      display: none;\n",
              "      fill: #1967D2;\n",
              "      height: 32px;\n",
              "      padding: 0 0 0 0;\n",
              "      width: 32px;\n",
              "    }\n",
              "\n",
              "    .colab-df-convert:hover {\n",
              "      background-color: #E2EBFA;\n",
              "      box-shadow: 0px 1px 2px rgba(60, 64, 67, 0.3), 0px 1px 3px 1px rgba(60, 64, 67, 0.15);\n",
              "      fill: #174EA6;\n",
              "    }\n",
              "\n",
              "    [theme=dark] .colab-df-convert {\n",
              "      background-color: #3B4455;\n",
              "      fill: #D2E3FC;\n",
              "    }\n",
              "\n",
              "    [theme=dark] .colab-df-convert:hover {\n",
              "      background-color: #434B5C;\n",
              "      box-shadow: 0px 1px 3px 1px rgba(0, 0, 0, 0.15);\n",
              "      filter: drop-shadow(0px 1px 2px rgba(0, 0, 0, 0.3));\n",
              "      fill: #FFFFFF;\n",
              "    }\n",
              "  </style>\n",
              "\n",
              "      <script>\n",
              "        const buttonEl =\n",
              "          document.querySelector('#df-8b844ffa-e4f1-4bdf-bf71-13c6b6ccfbd2 button.colab-df-convert');\n",
              "        buttonEl.style.display =\n",
              "          google.colab.kernel.accessAllowed ? 'block' : 'none';\n",
              "\n",
              "        async function convertToInteractive(key) {\n",
              "          const element = document.querySelector('#df-8b844ffa-e4f1-4bdf-bf71-13c6b6ccfbd2');\n",
              "          const dataTable =\n",
              "            await google.colab.kernel.invokeFunction('convertToInteractive',\n",
              "                                                     [key], {});\n",
              "          if (!dataTable) return;\n",
              "\n",
              "          const docLinkHtml = 'Like what you see? Visit the ' +\n",
              "            '<a target=\"_blank\" href=https://colab.research.google.com/notebooks/data_table.ipynb>data table notebook</a>'\n",
              "            + ' to learn more about interactive tables.';\n",
              "          element.innerHTML = '';\n",
              "          dataTable['output_type'] = 'display_data';\n",
              "          await google.colab.output.renderOutput(dataTable, element);\n",
              "          const docLink = document.createElement('div');\n",
              "          docLink.innerHTML = docLinkHtml;\n",
              "          element.appendChild(docLink);\n",
              "        }\n",
              "      </script>\n",
              "    </div>\n",
              "  </div>\n",
              "  "
            ]
          },
          "metadata": {},
          "execution_count": 76
        }
      ]
    },
    {
      "cell_type": "markdown",
      "source": [
        "# EDA"
      ],
      "metadata": {
        "id": "5tpipJ8EbCpi"
      }
    },
    {
      "cell_type": "code",
      "source": [
        "#Age Barplot\n",
        "data.groupby(by='index_age').count()['patid'].plot(kind='bar')\n",
        "# age has a bi-modal distribution"
      ],
      "metadata": {
        "colab": {
          "base_uri": "https://localhost:8080/",
          "height": 300
        },
        "id": "ByvFBHdcbEpP",
        "outputId": "b8f830f9-badf-42d5-fec7-27e4d6cf38d5"
      },
      "execution_count": null,
      "outputs": [
        {
          "output_type": "execute_result",
          "data": {
            "text/plain": [
              "<matplotlib.axes._subplots.AxesSubplot at 0x7f9d25d023a0>"
            ]
          },
          "metadata": {},
          "execution_count": 77
        },
        {
          "output_type": "display_data",
          "data": {
            "text/plain": [
              "<Figure size 432x288 with 1 Axes>"
            ],
            "image/png": "[encoded data removed]"
          },
          "metadata": {
            "needs_background": "light"
          }
        }
      ]
    },
    {
      "cell_type": "code",
      "source": [
        "#Gender Split\n",
        "\n",
        "data1=data.copy()\n",
        "\n",
        "def gender(s):\n",
        "    dummy=[]\n",
        "    for i in s:\n",
        "        if i==0: dg='Male'\n",
        "        else: dg='Female'\n",
        "        dummy.append(dg)\n",
        "    return dummy\n",
        "\n",
        "data1['female']=gender(data1['female'])\n",
        "\n",
        "data1.groupby(by='female').count()['patid'].plot(kind='bar',color='lightgreen')\n",
        "plt.xlabel('Gender of the patients')\n",
        "plt.ylabel('No. of patients')\n",
        "plt.title('Gender Distribution of Patients')"
      ],
      "metadata": {
        "colab": {
          "base_uri": "https://localhost:8080/",
          "height": 338
        },
        "id": "vYNzBS_XhHcn",
        "outputId": "eac6fb8a-6e2c-4280-e88a-4e04ede0ccd6"
      },
      "execution_count": null,
      "outputs": [
        {
          "output_type": "execute_result",
          "data": {
            "text/plain": [
              "Text(0.5, 1.0, 'Gender Distribution of Patients')"
            ]
          },
          "metadata": {},
          "execution_count": 78
        },
        {
          "output_type": "display_data",
          "data": {
            "text/plain": [
              "<Figure size 432x288 with 1 Axes>"
            ],
            "image/png": "[encoded data removed]"
          },
          "metadata": {
            "needs_background": "light"
          }
        }
      ]
    },
    {
      "cell_type": "code",
      "source": [
        "#Drug Split\n",
        "\n",
        "data1=data.copy()\n",
        "\n",
        "def drug(s):\n",
        "    dummy=[]\n",
        "    for i in s:\n",
        "        if i==0: dg='Drug D'\n",
        "        else: dg='Drug S'\n",
        "        dummy.append(dg)\n",
        "    return dummy\n",
        "\n",
        "data1['drug_s']=drug(data1['drug_s'])\n",
        "\n",
        "data1.groupby(by='drug_s').count()['patid'].plot(kind='bar',color='gold')\n",
        "plt.xlabel('Drug administered to the patients')\n",
        "plt.ylabel('No. of patients')\n",
        "plt.title('Drug Distribution of Patients')"
      ],
      "metadata": {
        "colab": {
          "base_uri": "https://localhost:8080/",
          "height": 338
        },
        "id": "2AX2rmdgiKwY",
        "outputId": "ba7f2580-8ffe-4770-af6b-f2d9e332d794"
      },
      "execution_count": null,
      "outputs": [
        {
          "output_type": "execute_result",
          "data": {
            "text/plain": [
              "Text(0.5, 1.0, 'Drug Distribution of Patients')"
            ]
          },
          "metadata": {},
          "execution_count": 142
        },
        {
          "output_type": "display_data",
          "data": {
            "text/plain": [
              "<Figure size 432x288 with 1 Axes>"
            ],
            "image/png": "[encoded data removed]"
          },
          "metadata": {
            "needs_background": "light"
          }
        }
      ]
    },
    {
      "cell_type": "code",
      "source": [
        "from scipy import stats \n",
        "#library for stats "
      ],
      "metadata": {
        "id": "bP8Wx-kn4jTY"
      },
      "execution_count": null,
      "outputs": []
    },
    {
      "cell_type": "code",
      "source": [
        "#setting up the dataframe for testing data difference\n",
        "drug_d_age = data[data['drug_s'] == 0]['index_age']\n",
        "drug_s_age = data[data['drug_s'] == 1]['index_age']"
      ],
      "metadata": {
        "id": "9qagJsH44mTr"
      },
      "execution_count": null,
      "outputs": []
    },
    {
      "cell_type": "code",
      "source": [
        "from scipy.stats import shapiro\n",
        "shapiro(drug_d_age)"
      ],
      "metadata": {
        "id": "pxv8RnrC-E9Y",
        "colab": {
          "base_uri": "https://localhost:8080/"
        },
        "outputId": "64dc1914-fe20-495a-b71e-e52fd852f51a"
      },
      "execution_count": null,
      "outputs": [
        {
          "output_type": "stream",
          "name": "stderr",
          "text": [
            "/usr/local/lib/python3.8/dist-packages/scipy/stats/morestats.py:1760: UserWarning: p-value may not be accurate for N > 5000.\n",
            "  warnings.warn(\"p-value may not be accurate for N > 5000.\")\n"
          ]
        },
        {
          "output_type": "execute_result",
          "data": {
            "text/plain": [
              "ShapiroResult(statistic=0.9458305835723877, pvalue=0.0)"
            ]
          },
          "metadata": {},
          "execution_count": 82
        }
      ]
    },
    {
      "cell_type": "code",
      "source": [
        "import statsmodels.api as sm\n",
        "import pylab as py\n",
        "sm.qqplot(drug_d_age, line ='45')\n",
        "py.show()"
      ],
      "metadata": {
        "id": "8LZKReGI9EE4",
        "colab": {
          "base_uri": "https://localhost:8080/",
          "height": 279
        },
        "outputId": "df0767a3-d251-4e2e-906e-2f06da4dd12c"
      },
      "execution_count": null,
      "outputs": [
        {
          "output_type": "display_data",
          "data": {
            "text/plain": [
              "<Figure size 432x288 with 1 Axes>"
            ],
            "image/png": "[encoded data removed]"
          },
          "metadata": {
            "needs_background": "light"
          }
        }
      ]
    },
    {
      "cell_type": "code",
      "source": [
        "from scipy.stats import mannwhitneyu \n",
        "mannwhitneyu(drug_d_age, drug_s_age)"
      ],
      "metadata": {
        "colab": {
          "base_uri": "https://localhost:8080/"
        },
        "id": "7iLgiHm8_cSj",
        "outputId": "3a006970-3cb9-4f36-9052-846cd4bb9c94"
      },
      "execution_count": null,
      "outputs": [
        {
          "output_type": "execute_result",
          "data": {
            "text/plain": [
              "MannwhitneyuResult(statistic=21738938.5, pvalue=0.0061385387930819055)"
            ]
          },
          "metadata": {},
          "execution_count": 84
        }
      ]
    },
    {
      "cell_type": "markdown",
      "source": [
        "# T-Test for Charges"
      ],
      "metadata": {
        "id": "YMO7m09I5n8j"
      }
    },
    {
      "cell_type": "markdown",
      "source": [
        "**Pharma Charges**"
      ],
      "metadata": {
        "id": "e2K3CXE_6ZVZ"
      }
    },
    {
      "cell_type": "code",
      "source": [
        "#setting up the dataframe for testing data difference\n",
        "drug_d_pc = data[data['drug_s'] == 0]['pre_asthma_pharma_charge']\n",
        "drug_s_pc = data[data['drug_s'] == 1]['pre_asthma_pharma_charge']"
      ],
      "metadata": {
        "id": "_QUCHpPl55Ga"
      },
      "execution_count": null,
      "outputs": []
    },
    {
      "cell_type": "code",
      "source": [
        "drug_d_pc.head(10)\n",
        "drug_s_pc.head(10)"
      ],
      "metadata": {
        "colab": {
          "base_uri": "https://localhost:8080/"
        },
        "id": "zeaDQrGw6ntD",
        "outputId": "ab855d9c-49aa-47a1-fcf8-78dab095ce4e"
      },
      "execution_count": null,
      "outputs": [
        {
          "output_type": "execute_result",
          "data": {
            "text/plain": [
              "15275     778.29\n",
              "15276     255.38\n",
              "15277     129.79\n",
              "15278      43.96\n",
              "15279    1010.78\n",
              "15280    1233.89\n",
              "15281    1029.75\n",
              "15282      46.58\n",
              "15283     976.46\n",
              "15284     442.80\n",
              "Name: pre_asthma_pharma_charge, dtype: float64"
            ]
          },
          "metadata": {},
          "execution_count": 86
        }
      ]
    },
    {
      "cell_type": "code",
      "source": [
        "sm.qqplot(drug_d_pc, line ='45')\n",
        "py.show()"
      ],
      "metadata": {
        "colab": {
          "base_uri": "https://localhost:8080/",
          "height": 279
        },
        "id": "C8JcCxRM_zQV",
        "outputId": "93334d35-8bc1-4c6a-a6fe-8e01278d47bb"
      },
      "execution_count": null,
      "outputs": [
        {
          "output_type": "display_data",
          "data": {
            "text/plain": [
              "<Figure size 432x288 with 1 Axes>"
            ],
            "image/png": "[encoded data removed]"
          },
          "metadata": {
            "needs_background": "light"
          }
        }
      ]
    },
    {
      "cell_type": "code",
      "source": [
        "from scipy.stats import mannwhitneyu \n",
        "mannwhitneyu(drug_d_pc, drug_s_pc)"
      ],
      "metadata": {
        "colab": {
          "base_uri": "https://localhost:8080/"
        },
        "id": "Q5AS6yqT_5mX",
        "outputId": "9bfcab50-76bb-4c47-a1b5-cb6f6720bf6e"
      },
      "execution_count": null,
      "outputs": [
        {
          "output_type": "execute_result",
          "data": {
            "text/plain": [
              "MannwhitneyuResult(statistic=14378935.0, pvalue=2.0241338507933482e-210)"
            ]
          },
          "metadata": {},
          "execution_count": 88
        }
      ]
    },
    {
      "cell_type": "markdown",
      "source": [
        "**Non Pharma Charges**"
      ],
      "metadata": {
        "id": "_FdTRVG47YgV"
      }
    },
    {
      "cell_type": "code",
      "source": [
        "#setting up the dataframe for testing data difference\n",
        "drug_d_npc = data[data['drug_s'] == 0]['pre_asthma_charge']\n",
        "drug_s_npc = data[data['drug_s'] == 1]['pre_asthma_charge']\n",
        "drug_d_npc.head(10)\n",
        "drug_s_npc.head(10)"
      ],
      "metadata": {
        "colab": {
          "base_uri": "https://localhost:8080/"
        },
        "id": "ks37BLLz7dDb",
        "outputId": "38ee282b-5c86-4c21-c633-0e6e8b6a5545"
      },
      "execution_count": null,
      "outputs": [
        {
          "output_type": "execute_result",
          "data": {
            "text/plain": [
              "15275     194.00\n",
              "15276     399.50\n",
              "15277       0.00\n",
              "15278    1459.00\n",
              "15279     110.00\n",
              "15280       0.00\n",
              "15281     133.00\n",
              "15282    1915.18\n",
              "15283     301.00\n",
              "15284      13.52\n",
              "Name: pre_asthma_charge, dtype: float64"
            ]
          },
          "metadata": {},
          "execution_count": 89
        }
      ]
    },
    {
      "cell_type": "code",
      "source": [
        "sm.qqplot(drug_d_npc, line ='45')\n",
        "py.show()"
      ],
      "metadata": {
        "colab": {
          "base_uri": "https://localhost:8080/",
          "height": 279
        },
        "id": "i2-Q2_89AFZX",
        "outputId": "c52cc98f-e83a-4e58-eeb8-984d77edc1cb"
      },
      "execution_count": null,
      "outputs": [
        {
          "output_type": "display_data",
          "data": {
            "text/plain": [
              "<Figure size 432x288 with 1 Axes>"
            ],
            "image/png": "[encoded data removed]"
          },
          "metadata": {
            "needs_background": "light"
          }
        }
      ]
    },
    {
      "cell_type": "code",
      "source": [
        "from scipy.stats import mannwhitneyu \n",
        "mannwhitneyu(drug_d_npc, drug_s_npc)"
      ],
      "metadata": {
        "colab": {
          "base_uri": "https://localhost:8080/"
        },
        "id": "-RfHxAEVAKa3",
        "outputId": "da26e5d1-9225-4858-e74b-7cc25e97d23e"
      },
      "execution_count": null,
      "outputs": [
        {
          "output_type": "execute_result",
          "data": {
            "text/plain": [
              "MannwhitneyuResult(statistic=16898751.5, pvalue=2.9308217622560846e-105)"
            ]
          },
          "metadata": {},
          "execution_count": 91
        }
      ]
    },
    {
      "cell_type": "markdown",
      "source": [
        "# Rough Codes"
      ],
      "metadata": {
        "id": "N5kDTOkT5Fwp"
      }
    },
    {
      "cell_type": "code",
      "source": [
        "new_data=data.copy()\n",
        "new_data.head()"
      ],
      "metadata": {
        "colab": {
          "base_uri": "https://localhost:8080/",
          "height": 300
        },
        "id": "Q2c_orBaZXQR",
        "outputId": "7ce94400-9c09-42d1-c5bf-fd7414be4386"
      },
      "execution_count": null,
      "outputs": [
        {
          "output_type": "execute_result",
          "data": {
            "text/plain": [
              "        patid  index_age  previous_asthma_drugs  \\\n",
              "0  1073754155         14                      1   \n",
              "1  1073799394         21                      1   \n",
              "2  1073854918         62                      1   \n",
              "3  1073898249         30                      1   \n",
              "4  1073913003         40                      1   \n",
              "\n",
              "   total_pre_index_cannisters_365  post_index_exacerbations365 pneumonia  \\\n",
              "0                               1                            0         0   \n",
              "1                               2                            2         0   \n",
              "2                               0                            0         0   \n",
              "3                               2                            0         0   \n",
              "4                               1                            0         0   \n",
              "\n",
              "  sinusitis acute_bronchitis acute_laryngitis upper_respiratory_infection  \\\n",
              "0         0                1                0                           1   \n",
              "1         1                1                0                           0   \n",
              "2         0                0                0                           0   \n",
              "3         0                1                0                           1   \n",
              "4         1                0                1                           1   \n",
              "\n",
              "   ... rhinitis adherence  total_pre_index_charge  pre_asthma_days  \\\n",
              "0  ...        0  0.084469             1224.767473                1   \n",
              "1  ...        1  0.084469            20290.534269                0   \n",
              "2  ...        0  0.738420             2964.254175                4   \n",
              "3  ...        0  0.084469             3223.708820                0   \n",
              "4  ...        1  0.506812             1287.254368                2   \n",
              "\n",
              "   pre_asthma_charge  pre_asthma_pharma_charge  drug_s female log_charges  \\\n",
              "0              314.0                    218.13       0      0    7.110506   \n",
              "1                0.0                     44.98       0      0    9.917910   \n",
              "2              480.0                     99.26       0      0    7.994381   \n",
              "3                0.0                     59.58       0      1    8.078288   \n",
              "4              689.0                     29.79       0      0    7.160267   \n",
              "\n",
              "   log_asthma_charge  \n",
              "0           5.385091  \n",
              "1           3.806218  \n",
              "2           4.597743  \n",
              "3           4.087320  \n",
              "4           3.394173  \n",
              "\n",
              "[5 rows x 21 columns]"
            ],
            "text/html": [
              "\n",
              "  <div id=\"df-a78c0723-de1c-4c7d-9a88-222cf69f6e28\">\n",
              "    <div class=\"colab-df-container\">\n",
              "      <div>\n",
              "<style scoped>\n",
              "    .dataframe tbody tr th:only-of-type {\n",
              "        vertical-align: middle;\n",
              "    }\n",
              "\n",
              "    .dataframe tbody tr th {\n",
              "        vertical-align: top;\n",
              "    }\n",
              "\n",
              "    .dataframe thead th {\n",
              "        text-align: right;\n",
              "    }\n",
              "</style>\n",
              "<table border=\"1\" class=\"dataframe\">\n",
              "  <thead>\n",
              "    <tr style=\"text-align: right;\">\n",
              "      <th></th>\n",
              "      <th>patid</th>\n",
              "      <th>index_age</th>\n",
              "      <th>previous_asthma_drugs</th>\n",
              "      <th>total_pre_index_cannisters_365</th>\n",
              "      <th>post_index_exacerbations365</th>\n",
              "      <th>pneumonia</th>\n",
              "      <th>sinusitis</th>\n",
              "      <th>acute_bronchitis</th>\n",
              "      <th>acute_laryngitis</th>\n",
              "      <th>upper_respiratory_infection</th>\n",
              "      <th>...</th>\n",
              "      <th>rhinitis</th>\n",
              "      <th>adherence</th>\n",
              "      <th>total_pre_index_charge</th>\n",
              "      <th>pre_asthma_days</th>\n",
              "      <th>pre_asthma_charge</th>\n",
              "      <th>pre_asthma_pharma_charge</th>\n",
              "      <th>drug_s</th>\n",
              "      <th>female</th>\n",
              "      <th>log_charges</th>\n",
              "      <th>log_asthma_charge</th>\n",
              "    </tr>\n",
              "  </thead>\n",
              "  <tbody>\n",
              "    <tr>\n",
              "      <th>0</th>\n",
              "      <td>1073754155</td>\n",
              "      <td>14</td>\n",
              "      <td>1</td>\n",
              "      <td>1</td>\n",
              "      <td>0</td>\n",
              "      <td>0</td>\n",
              "      <td>0</td>\n",
              "      <td>1</td>\n",
              "      <td>0</td>\n",
              "      <td>1</td>\n",
              "      <td>...</td>\n",
              "      <td>0</td>\n",
              "      <td>0.084469</td>\n",
              "      <td>1224.767473</td>\n",
              "      <td>1</td>\n",
              "      <td>314.0</td>\n",
              "      <td>218.13</td>\n",
              "      <td>0</td>\n",
              "      <td>0</td>\n",
              "      <td>7.110506</td>\n",
              "      <td>5.385091</td>\n",
              "    </tr>\n",
              "    <tr>\n",
              "      <th>1</th>\n",
              "      <td>1073799394</td>\n",
              "      <td>21</td>\n",
              "      <td>1</td>\n",
              "      <td>2</td>\n",
              "      <td>2</td>\n",
              "      <td>0</td>\n",
              "      <td>1</td>\n",
              "      <td>1</td>\n",
              "      <td>0</td>\n",
              "      <td>0</td>\n",
              "      <td>...</td>\n",
              "      <td>1</td>\n",
              "      <td>0.084469</td>\n",
              "      <td>20290.534269</td>\n",
              "      <td>0</td>\n",
              "      <td>0.0</td>\n",
              "      <td>44.98</td>\n",
              "      <td>0</td>\n",
              "      <td>0</td>\n",
              "      <td>9.917910</td>\n",
              "      <td>3.806218</td>\n",
              "    </tr>\n",
              "    <tr>\n",
              "      <th>2</th>\n",
              "      <td>1073854918</td>\n",
              "      <td>62</td>\n",
              "      <td>1</td>\n",
              "      <td>0</td>\n",
              "      <td>0</td>\n",
              "      <td>0</td>\n",
              "      <td>0</td>\n",
              "      <td>0</td>\n",
              "      <td>0</td>\n",
              "      <td>0</td>\n",
              "      <td>...</td>\n",
              "      <td>0</td>\n",
              "      <td>0.738420</td>\n",
              "      <td>2964.254175</td>\n",
              "      <td>4</td>\n",
              "      <td>480.0</td>\n",
              "      <td>99.26</td>\n",
              "      <td>0</td>\n",
              "      <td>0</td>\n",
              "      <td>7.994381</td>\n",
              "      <td>4.597743</td>\n",
              "    </tr>\n",
              "    <tr>\n",
              "      <th>3</th>\n",
              "      <td>1073898249</td>\n",
              "      <td>30</td>\n",
              "      <td>1</td>\n",
              "      <td>2</td>\n",
              "      <td>0</td>\n",
              "      <td>0</td>\n",
              "      <td>0</td>\n",
              "      <td>1</td>\n",
              "      <td>0</td>\n",
              "      <td>1</td>\n",
              "      <td>...</td>\n",
              "      <td>0</td>\n",
              "      <td>0.084469</td>\n",
              "      <td>3223.708820</td>\n",
              "      <td>0</td>\n",
              "      <td>0.0</td>\n",
              "      <td>59.58</td>\n",
              "      <td>0</td>\n",
              "      <td>1</td>\n",
              "      <td>8.078288</td>\n",
              "      <td>4.087320</td>\n",
              "    </tr>\n",
              "    <tr>\n",
              "      <th>4</th>\n",
              "      <td>1073913003</td>\n",
              "      <td>40</td>\n",
              "      <td>1</td>\n",
              "      <td>1</td>\n",
              "      <td>0</td>\n",
              "      <td>0</td>\n",
              "      <td>1</td>\n",
              "      <td>0</td>\n",
              "      <td>1</td>\n",
              "      <td>1</td>\n",
              "      <td>...</td>\n",
              "      <td>1</td>\n",
              "      <td>0.506812</td>\n",
              "      <td>1287.254368</td>\n",
              "      <td>2</td>\n",
              "      <td>689.0</td>\n",
              "      <td>29.79</td>\n",
              "      <td>0</td>\n",
              "      <td>0</td>\n",
              "      <td>7.160267</td>\n",
              "      <td>3.394173</td>\n",
              "    </tr>\n",
              "  </tbody>\n",
              "</table>\n",
              "<p>5 rows × 21 columns</p>\n",
              "</div>\n",
              "      <button class=\"colab-df-convert\" onclick=\"convertToInteractive('df-a78c0723-de1c-4c7d-9a88-222cf69f6e28')\"\n",
              "              title=\"Convert this dataframe to an interactive table.\"\n",
              "              style=\"display:none;\">\n",
              "        \n",
              "  <svg xmlns=\"http://www.w3.org/2000/svg\" height=\"24px\"viewBox=\"0 0 24 24\"\n",
              "       width=\"24px\">\n",
              "    <path d=\"M0 0h24v24H0V0z\" fill=\"none\"/>\n",
              "    <path d=\"M18.56 5.44l.94 2.06.94-2.06 2.06-.94-2.06-.94-.94-2.06-.94 2.06-2.06.94zm-11 1L8.5 8.5l.94-2.06 2.06-.94-2.06-.94L8.5 2.5l-.94 2.06-2.06.94zm10 10l.94 2.06.94-2.06 2.06-.94-2.06-.94-.94-2.06-.94 2.06-2.06.94z\"/><path d=\"M17.41 7.96l-1.37-1.37c-.4-.4-.92-.59-1.43-.59-.52 0-1.04.2-1.43.59L10.3 9.45l-7.72 7.72c-.78.78-.78 2.05 0 2.83L4 21.41c.39.39.9.59 1.41.59.51 0 1.02-.2 1.41-.59l7.78-7.78 2.81-2.81c.8-.78.8-2.07 0-2.86zM5.41 20L4 18.59l7.72-7.72 1.47 1.35L5.41 20z\"/>\n",
              "  </svg>\n",
              "      </button>\n",
              "      \n",
              "  <style>\n",
              "    .colab-df-container {\n",
              "      display:flex;\n",
              "      flex-wrap:wrap;\n",
              "      gap: 12px;\n",
              "    }\n",
              "\n",
              "    .colab-df-convert {\n",
              "      background-color: #E8F0FE;\n",
              "      border: none;\n",
              "      border-radius: 50%;\n",
              "      cursor: pointer;\n",
              "      display: none;\n",
              "      fill: #1967D2;\n",
              "      height: 32px;\n",
              "      padding: 0 0 0 0;\n",
              "      width: 32px;\n",
              "    }\n",
              "\n",
              "    .colab-df-convert:hover {\n",
              "      background-color: #E2EBFA;\n",
              "      box-shadow: 0px 1px 2px rgba(60, 64, 67, 0.3), 0px 1px 3px 1px rgba(60, 64, 67, 0.15);\n",
              "      fill: #174EA6;\n",
              "    }\n",
              "\n",
              "    [theme=dark] .colab-df-convert {\n",
              "      background-color: #3B4455;\n",
              "      fill: #D2E3FC;\n",
              "    }\n",
              "\n",
              "    [theme=dark] .colab-df-convert:hover {\n",
              "      background-color: #434B5C;\n",
              "      box-shadow: 0px 1px 3px 1px rgba(0, 0, 0, 0.15);\n",
              "      filter: drop-shadow(0px 1px 2px rgba(0, 0, 0, 0.3));\n",
              "      fill: #FFFFFF;\n",
              "    }\n",
              "  </style>\n",
              "\n",
              "      <script>\n",
              "        const buttonEl =\n",
              "          document.querySelector('#df-a78c0723-de1c-4c7d-9a88-222cf69f6e28 button.colab-df-convert');\n",
              "        buttonEl.style.display =\n",
              "          google.colab.kernel.accessAllowed ? 'block' : 'none';\n",
              "\n",
              "        async function convertToInteractive(key) {\n",
              "          const element = document.querySelector('#df-a78c0723-de1c-4c7d-9a88-222cf69f6e28');\n",
              "          const dataTable =\n",
              "            await google.colab.kernel.invokeFunction('convertToInteractive',\n",
              "                                                     [key], {});\n",
              "          if (!dataTable) return;\n",
              "\n",
              "          const docLinkHtml = 'Like what you see? Visit the ' +\n",
              "            '<a target=\"_blank\" href=https://colab.research.google.com/notebooks/data_table.ipynb>data table notebook</a>'\n",
              "            + ' to learn more about interactive tables.';\n",
              "          element.innerHTML = '';\n",
              "          dataTable['output_type'] = 'display_data';\n",
              "          await google.colab.output.renderOutput(dataTable, element);\n",
              "          const docLink = document.createElement('div');\n",
              "          docLink.innerHTML = docLinkHtml;\n",
              "          element.appendChild(docLink);\n",
              "        }\n",
              "      </script>\n",
              "    </div>\n",
              "  </div>\n",
              "  "
            ]
          },
          "metadata": {},
          "execution_count": 92
        }
      ]
    },
    {
      "cell_type": "code",
      "source": [
        "def AG(age):\n",
        "    dummy=[]\n",
        "    for i in age:\n",
        "        if i<15: grp='0-14'\n",
        "        elif i<30: grp='15-29'\n",
        "        elif i<45: grp='30-44'\n",
        "        elif i<60: grp='45-59'\n",
        "        else: grp='60-74'\n",
        "        dummy.append(grp)\n",
        "    return dummy\n",
        "\n",
        "new_data['age_group']=AG(new_data['index_age'])"
      ],
      "metadata": {
        "id": "8_nl87EUZh8I"
      },
      "execution_count": null,
      "outputs": []
    },
    {
      "cell_type": "code",
      "source": [
        "def response(pie_365):\n",
        "    dummy=[]\n",
        "    for i in pie_365:\n",
        "        if i==0: r=0\n",
        "        else: r=1\n",
        "        dummy.append(r)\n",
        "    return dummy\n",
        "\n",
        "new_data['post_index_exc_bin']=response(new_data['post_index_exacerbations365'])"
      ],
      "metadata": {
        "id": "lMPM1g2ZRSVi"
      },
      "execution_count": null,
      "outputs": []
    },
    {
      "cell_type": "code",
      "source": [
        "def pre_as(pac):\n",
        "    dummy=[]\n",
        "    for i in pac:\n",
        "        if i==0: d=0\n",
        "        elif i==1: d=1\n",
        "        else: d=2\n",
        "        dummy.append(d)\n",
        "    return dummy\n",
        "\n",
        "new_data['pre_asthma_days_bin']=pre_as(new_data['pre_asthma_days'])"
      ],
      "metadata": {
        "id": "Cmm5MLMHSPwU"
      },
      "execution_count": null,
      "outputs": []
    },
    {
      "cell_type": "code",
      "source": [
        "new_data.head()"
      ],
      "metadata": {
        "colab": {
          "base_uri": "https://localhost:8080/",
          "height": 300
        },
        "id": "7mWbbfIabHnT",
        "outputId": "dedede38-aa52-43fb-9e0d-a7d7cefd2666"
      },
      "execution_count": null,
      "outputs": [
        {
          "output_type": "execute_result",
          "data": {
            "text/plain": [
              "        patid  index_age  previous_asthma_drugs  \\\n",
              "0  1073754155         14                      1   \n",
              "1  1073799394         21                      1   \n",
              "2  1073854918         62                      1   \n",
              "3  1073898249         30                      1   \n",
              "4  1073913003         40                      1   \n",
              "\n",
              "   total_pre_index_cannisters_365  post_index_exacerbations365 pneumonia  \\\n",
              "0                               1                            0         0   \n",
              "1                               2                            2         0   \n",
              "2                               0                            0         0   \n",
              "3                               2                            0         0   \n",
              "4                               1                            0         0   \n",
              "\n",
              "  sinusitis acute_bronchitis acute_laryngitis upper_respiratory_infection  \\\n",
              "0         0                1                0                           1   \n",
              "1         1                1                0                           0   \n",
              "2         0                0                0                           0   \n",
              "3         0                1                0                           1   \n",
              "4         1                0                1                           1   \n",
              "\n",
              "   ... pre_asthma_days pre_asthma_charge  pre_asthma_pharma_charge  drug_s  \\\n",
              "0  ...               1             314.0                    218.13       0   \n",
              "1  ...               0               0.0                     44.98       0   \n",
              "2  ...               4             480.0                     99.26       0   \n",
              "3  ...               0               0.0                     59.58       0   \n",
              "4  ...               2             689.0                     29.79       0   \n",
              "\n",
              "   female  log_charges  log_asthma_charge age_group post_index_exc_bin  \\\n",
              "0       0     7.110506           5.385091      0-14                  0   \n",
              "1       0     9.917910           3.806218     15-29                  1   \n",
              "2       0     7.994381           4.597743     60-74                  0   \n",
              "3       1     8.078288           4.087320     30-44                  0   \n",
              "4       0     7.160267           3.394173     30-44                  0   \n",
              "\n",
              "   pre_asthma_days_bin  \n",
              "0                    1  \n",
              "1                    0  \n",
              "2                    2  \n",
              "3                    0  \n",
              "4                    2  \n",
              "\n",
              "[5 rows x 24 columns]"
            ],
            "text/html": [
              "\n",
              "  <div id=\"df-2fee8f6e-00f0-421d-9753-65fd514f1681\">\n",
              "    <div class=\"colab-df-container\">\n",
              "      <div>\n",
              "<style scoped>\n",
              "    .dataframe tbody tr th:only-of-type {\n",
              "        vertical-align: middle;\n",
              "    }\n",
              "\n",
              "    .dataframe tbody tr th {\n",
              "        vertical-align: top;\n",
              "    }\n",
              "\n",
              "    .dataframe thead th {\n",
              "        text-align: right;\n",
              "    }\n",
              "</style>\n",
              "<table border=\"1\" class=\"dataframe\">\n",
              "  <thead>\n",
              "    <tr style=\"text-align: right;\">\n",
              "      <th></th>\n",
              "      <th>patid</th>\n",
              "      <th>index_age</th>\n",
              "      <th>previous_asthma_drugs</th>\n",
              "      <th>total_pre_index_cannisters_365</th>\n",
              "      <th>post_index_exacerbations365</th>\n",
              "      <th>pneumonia</th>\n",
              "      <th>sinusitis</th>\n",
              "      <th>acute_bronchitis</th>\n",
              "      <th>acute_laryngitis</th>\n",
              "      <th>upper_respiratory_infection</th>\n",
              "      <th>...</th>\n",
              "      <th>pre_asthma_days</th>\n",
              "      <th>pre_asthma_charge</th>\n",
              "      <th>pre_asthma_pharma_charge</th>\n",
              "      <th>drug_s</th>\n",
              "      <th>female</th>\n",
              "      <th>log_charges</th>\n",
              "      <th>log_asthma_charge</th>\n",
              "      <th>age_group</th>\n",
              "      <th>post_index_exc_bin</th>\n",
              "      <th>pre_asthma_days_bin</th>\n",
              "    </tr>\n",
              "  </thead>\n",
              "  <tbody>\n",
              "    <tr>\n",
              "      <th>0</th>\n",
              "      <td>1073754155</td>\n",
              "      <td>14</td>\n",
              "      <td>1</td>\n",
              "      <td>1</td>\n",
              "      <td>0</td>\n",
              "      <td>0</td>\n",
              "      <td>0</td>\n",
              "      <td>1</td>\n",
              "      <td>0</td>\n",
              "      <td>1</td>\n",
              "      <td>...</td>\n",
              "      <td>1</td>\n",
              "      <td>314.0</td>\n",
              "      <td>218.13</td>\n",
              "      <td>0</td>\n",
              "      <td>0</td>\n",
              "      <td>7.110506</td>\n",
              "      <td>5.385091</td>\n",
              "      <td>0-14</td>\n",
              "      <td>0</td>\n",
              "      <td>1</td>\n",
              "    </tr>\n",
              "    <tr>\n",
              "      <th>1</th>\n",
              "      <td>1073799394</td>\n",
              "      <td>21</td>\n",
              "      <td>1</td>\n",
              "      <td>2</td>\n",
              "      <td>2</td>\n",
              "      <td>0</td>\n",
              "      <td>1</td>\n",
              "      <td>1</td>\n",
              "      <td>0</td>\n",
              "      <td>0</td>\n",
              "      <td>...</td>\n",
              "      <td>0</td>\n",
              "      <td>0.0</td>\n",
              "      <td>44.98</td>\n",
              "      <td>0</td>\n",
              "      <td>0</td>\n",
              "      <td>9.917910</td>\n",
              "      <td>3.806218</td>\n",
              "      <td>15-29</td>\n",
              "      <td>1</td>\n",
              "      <td>0</td>\n",
              "    </tr>\n",
              "    <tr>\n",
              "      <th>2</th>\n",
              "      <td>1073854918</td>\n",
              "      <td>62</td>\n",
              "      <td>1</td>\n",
              "      <td>0</td>\n",
              "      <td>0</td>\n",
              "      <td>0</td>\n",
              "      <td>0</td>\n",
              "      <td>0</td>\n",
              "      <td>0</td>\n",
              "      <td>0</td>\n",
              "      <td>...</td>\n",
              "      <td>4</td>\n",
              "      <td>480.0</td>\n",
              "      <td>99.26</td>\n",
              "      <td>0</td>\n",
              "      <td>0</td>\n",
              "      <td>7.994381</td>\n",
              "      <td>4.597743</td>\n",
              "      <td>60-74</td>\n",
              "      <td>0</td>\n",
              "      <td>2</td>\n",
              "    </tr>\n",
              "    <tr>\n",
              "      <th>3</th>\n",
              "      <td>1073898249</td>\n",
              "      <td>30</td>\n",
              "      <td>1</td>\n",
              "      <td>2</td>\n",
              "      <td>0</td>\n",
              "      <td>0</td>\n",
              "      <td>0</td>\n",
              "      <td>1</td>\n",
              "      <td>0</td>\n",
              "      <td>1</td>\n",
              "      <td>...</td>\n",
              "      <td>0</td>\n",
              "      <td>0.0</td>\n",
              "      <td>59.58</td>\n",
              "      <td>0</td>\n",
              "      <td>1</td>\n",
              "      <td>8.078288</td>\n",
              "      <td>4.087320</td>\n",
              "      <td>30-44</td>\n",
              "      <td>0</td>\n",
              "      <td>0</td>\n",
              "    </tr>\n",
              "    <tr>\n",
              "      <th>4</th>\n",
              "      <td>1073913003</td>\n",
              "      <td>40</td>\n",
              "      <td>1</td>\n",
              "      <td>1</td>\n",
              "      <td>0</td>\n",
              "      <td>0</td>\n",
              "      <td>1</td>\n",
              "      <td>0</td>\n",
              "      <td>1</td>\n",
              "      <td>1</td>\n",
              "      <td>...</td>\n",
              "      <td>2</td>\n",
              "      <td>689.0</td>\n",
              "      <td>29.79</td>\n",
              "      <td>0</td>\n",
              "      <td>0</td>\n",
              "      <td>7.160267</td>\n",
              "      <td>3.394173</td>\n",
              "      <td>30-44</td>\n",
              "      <td>0</td>\n",
              "      <td>2</td>\n",
              "    </tr>\n",
              "  </tbody>\n",
              "</table>\n",
              "<p>5 rows × 24 columns</p>\n",
              "</div>\n",
              "      <button class=\"colab-df-convert\" onclick=\"convertToInteractive('df-2fee8f6e-00f0-421d-9753-65fd514f1681')\"\n",
              "              title=\"Convert this dataframe to an interactive table.\"\n",
              "              style=\"display:none;\">\n",
              "        \n",
              "  <svg xmlns=\"http://www.w3.org/2000/svg\" height=\"24px\"viewBox=\"0 0 24 24\"\n",
              "       width=\"24px\">\n",
              "    <path d=\"M0 0h24v24H0V0z\" fill=\"none\"/>\n",
              "    <path d=\"M18.56 5.44l.94 2.06.94-2.06 2.06-.94-2.06-.94-.94-2.06-.94 2.06-2.06.94zm-11 1L8.5 8.5l.94-2.06 2.06-.94-2.06-.94L8.5 2.5l-.94 2.06-2.06.94zm10 10l.94 2.06.94-2.06 2.06-.94-2.06-.94-.94-2.06-.94 2.06-2.06.94z\"/><path d=\"M17.41 7.96l-1.37-1.37c-.4-.4-.92-.59-1.43-.59-.52 0-1.04.2-1.43.59L10.3 9.45l-7.72 7.72c-.78.78-.78 2.05 0 2.83L4 21.41c.39.39.9.59 1.41.59.51 0 1.02-.2 1.41-.59l7.78-7.78 2.81-2.81c.8-.78.8-2.07 0-2.86zM5.41 20L4 18.59l7.72-7.72 1.47 1.35L5.41 20z\"/>\n",
              "  </svg>\n",
              "      </button>\n",
              "      \n",
              "  <style>\n",
              "    .colab-df-container {\n",
              "      display:flex;\n",
              "      flex-wrap:wrap;\n",
              "      gap: 12px;\n",
              "    }\n",
              "\n",
              "    .colab-df-convert {\n",
              "      background-color: #E8F0FE;\n",
              "      border: none;\n",
              "      border-radius: 50%;\n",
              "      cursor: pointer;\n",
              "      display: none;\n",
              "      fill: #1967D2;\n",
              "      height: 32px;\n",
              "      padding: 0 0 0 0;\n",
              "      width: 32px;\n",
              "    }\n",
              "\n",
              "    .colab-df-convert:hover {\n",
              "      background-color: #E2EBFA;\n",
              "      box-shadow: 0px 1px 2px rgba(60, 64, 67, 0.3), 0px 1px 3px 1px rgba(60, 64, 67, 0.15);\n",
              "      fill: #174EA6;\n",
              "    }\n",
              "\n",
              "    [theme=dark] .colab-df-convert {\n",
              "      background-color: #3B4455;\n",
              "      fill: #D2E3FC;\n",
              "    }\n",
              "\n",
              "    [theme=dark] .colab-df-convert:hover {\n",
              "      background-color: #434B5C;\n",
              "      box-shadow: 0px 1px 3px 1px rgba(0, 0, 0, 0.15);\n",
              "      filter: drop-shadow(0px 1px 2px rgba(0, 0, 0, 0.3));\n",
              "      fill: #FFFFFF;\n",
              "    }\n",
              "  </style>\n",
              "\n",
              "      <script>\n",
              "        const buttonEl =\n",
              "          document.querySelector('#df-2fee8f6e-00f0-421d-9753-65fd514f1681 button.colab-df-convert');\n",
              "        buttonEl.style.display =\n",
              "          google.colab.kernel.accessAllowed ? 'block' : 'none';\n",
              "\n",
              "        async function convertToInteractive(key) {\n",
              "          const element = document.querySelector('#df-2fee8f6e-00f0-421d-9753-65fd514f1681');\n",
              "          const dataTable =\n",
              "            await google.colab.kernel.invokeFunction('convertToInteractive',\n",
              "                                                     [key], {});\n",
              "          if (!dataTable) return;\n",
              "\n",
              "          const docLinkHtml = 'Like what you see? Visit the ' +\n",
              "            '<a target=\"_blank\" href=https://colab.research.google.com/notebooks/data_table.ipynb>data table notebook</a>'\n",
              "            + ' to learn more about interactive tables.';\n",
              "          element.innerHTML = '';\n",
              "          dataTable['output_type'] = 'display_data';\n",
              "          await google.colab.output.renderOutput(dataTable, element);\n",
              "          const docLink = document.createElement('div');\n",
              "          docLink.innerHTML = docLinkHtml;\n",
              "          element.appendChild(docLink);\n",
              "        }\n",
              "      </script>\n",
              "    </div>\n",
              "  </div>\n",
              "  "
            ]
          },
          "metadata": {},
          "execution_count": 96
        }
      ]
    },
    {
      "cell_type": "code",
      "source": [
        "new_data.to_csv('/content/new-data.csv')"
      ],
      "metadata": {
        "id": "GhCgmCkwgYZf"
      },
      "execution_count": null,
      "outputs": []
    },
    {
      "cell_type": "code",
      "source": [
        "sns.countplot(sorted(new_data['age_group']))\n",
        "plt.xlabel('Ages of the patients (in years)')\n",
        "plt.ylabel('No. of patients')\n",
        "plt.title('Age Distribution of Patients')"
      ],
      "metadata": {
        "colab": {
          "base_uri": "https://localhost:8080/",
          "height": 367
        },
        "id": "EweQo73uiPaM",
        "outputId": "b8262d93-0691-41c2-d401-934c0b158562"
      },
      "execution_count": null,
      "outputs": [
        {
          "output_type": "stream",
          "name": "stderr",
          "text": [
            "/usr/local/lib/python3.8/dist-packages/seaborn/_decorators.py:36: FutureWarning: Pass the following variable as a keyword arg: x. From version 0.12, the only valid positional argument will be `data`, and passing other arguments without an explicit keyword will result in an error or misinterpretation.\n",
            "  warnings.warn(\n"
          ]
        },
        {
          "output_type": "execute_result",
          "data": {
            "text/plain": [
              "Text(0.5, 1.0, 'Age Distribution of Patients')"
            ]
          },
          "metadata": {},
          "execution_count": 98
        },
        {
          "output_type": "display_data",
          "data": {
            "text/plain": [
              "<Figure size 432x288 with 1 Axes>"
            ],
            "image/png": "[encoded data removed]"
          },
          "metadata": {
            "needs_background": "light"
          }
        }
      ]
    },
    {
      "cell_type": "code",
      "source": [
        "sns.distplot(sorted(new_data['index_age']),color='green')\n",
        "plt.xlabel('Ages of the patients')\n",
        "plt.ylabel('No. of patients')\n",
        "plt.title('Age Distribution of Patients')"
      ],
      "metadata": {
        "colab": {
          "base_uri": "https://localhost:8080/",
          "height": 367
        },
        "id": "_dlBtZa8xAXz",
        "outputId": "e6b4cefc-b355-40c4-c92c-0b439a355b7d"
      },
      "execution_count": null,
      "outputs": [
        {
          "output_type": "stream",
          "name": "stderr",
          "text": [
            "/usr/local/lib/python3.8/dist-packages/seaborn/distributions.py:2619: FutureWarning: `distplot` is a deprecated function and will be removed in a future version. Please adapt your code to use either `displot` (a figure-level function with similar flexibility) or `histplot` (an axes-level function for histograms).\n",
            "  warnings.warn(msg, FutureWarning)\n"
          ]
        },
        {
          "output_type": "execute_result",
          "data": {
            "text/plain": [
              "Text(0.5, 1.0, 'Age Distribution of Patients')"
            ]
          },
          "metadata": {},
          "execution_count": 99
        },
        {
          "output_type": "display_data",
          "data": {
            "text/plain": [
              "<Figure size 432x288 with 1 Axes>"
            ],
            "image/png": "[encoded data removed]"
          },
          "metadata": {
            "needs_background": "light"
          }
        }
      ]
    },
    {
      "cell_type": "code",
      "source": [
        "dplot=pd.DataFrame(new_data['age_group'].value_counts())\n",
        "dplot=dplot.sort_index()\n",
        "dplot"
      ],
      "metadata": {
        "colab": {
          "base_uri": "https://localhost:8080/",
          "height": 206
        },
        "id": "y5eg2nF_j-B1",
        "outputId": "0566a228-8655-405f-cee8-117185033b6e"
      },
      "execution_count": null,
      "outputs": [
        {
          "output_type": "execute_result",
          "data": {
            "text/plain": [
              "       age_group\n",
              "0-14        1512\n",
              "15-29       3800\n",
              "30-44       5560\n",
              "45-59       6145\n",
              "60-74       1198"
            ],
            "text/html": [
              "\n",
              "  <div id=\"df-d5aed2f7-fc14-4fca-820c-1e56a89e2fdb\">\n",
              "    <div class=\"colab-df-container\">\n",
              "      <div>\n",
              "<style scoped>\n",
              "    .dataframe tbody tr th:only-of-type {\n",
              "        vertical-align: middle;\n",
              "    }\n",
              "\n",
              "    .dataframe tbody tr th {\n",
              "        vertical-align: top;\n",
              "    }\n",
              "\n",
              "    .dataframe thead th {\n",
              "        text-align: right;\n",
              "    }\n",
              "</style>\n",
              "<table border=\"1\" class=\"dataframe\">\n",
              "  <thead>\n",
              "    <tr style=\"text-align: right;\">\n",
              "      <th></th>\n",
              "      <th>age_group</th>\n",
              "    </tr>\n",
              "  </thead>\n",
              "  <tbody>\n",
              "    <tr>\n",
              "      <th>0-14</th>\n",
              "      <td>1512</td>\n",
              "    </tr>\n",
              "    <tr>\n",
              "      <th>15-29</th>\n",
              "      <td>3800</td>\n",
              "    </tr>\n",
              "    <tr>\n",
              "      <th>30-44</th>\n",
              "      <td>5560</td>\n",
              "    </tr>\n",
              "    <tr>\n",
              "      <th>45-59</th>\n",
              "      <td>6145</td>\n",
              "    </tr>\n",
              "    <tr>\n",
              "      <th>60-74</th>\n",
              "      <td>1198</td>\n",
              "    </tr>\n",
              "  </tbody>\n",
              "</table>\n",
              "</div>\n",
              "      <button class=\"colab-df-convert\" onclick=\"convertToInteractive('df-d5aed2f7-fc14-4fca-820c-1e56a89e2fdb')\"\n",
              "              title=\"Convert this dataframe to an interactive table.\"\n",
              "              style=\"display:none;\">\n",
              "        \n",
              "  <svg xmlns=\"http://www.w3.org/2000/svg\" height=\"24px\"viewBox=\"0 0 24 24\"\n",
              "       width=\"24px\">\n",
              "    <path d=\"M0 0h24v24H0V0z\" fill=\"none\"/>\n",
              "    <path d=\"M18.56 5.44l.94 2.06.94-2.06 2.06-.94-2.06-.94-.94-2.06-.94 2.06-2.06.94zm-11 1L8.5 8.5l.94-2.06 2.06-.94-2.06-.94L8.5 2.5l-.94 2.06-2.06.94zm10 10l.94 2.06.94-2.06 2.06-.94-2.06-.94-.94-2.06-.94 2.06-2.06.94z\"/><path d=\"M17.41 7.96l-1.37-1.37c-.4-.4-.92-.59-1.43-.59-.52 0-1.04.2-1.43.59L10.3 9.45l-7.72 7.72c-.78.78-.78 2.05 0 2.83L4 21.41c.39.39.9.59 1.41.59.51 0 1.02-.2 1.41-.59l7.78-7.78 2.81-2.81c.8-.78.8-2.07 0-2.86zM5.41 20L4 18.59l7.72-7.72 1.47 1.35L5.41 20z\"/>\n",
              "  </svg>\n",
              "      </button>\n",
              "      \n",
              "  <style>\n",
              "    .colab-df-container {\n",
              "      display:flex;\n",
              "      flex-wrap:wrap;\n",
              "      gap: 12px;\n",
              "    }\n",
              "\n",
              "    .colab-df-convert {\n",
              "      background-color: #E8F0FE;\n",
              "      border: none;\n",
              "      border-radius: 50%;\n",
              "      cursor: pointer;\n",
              "      display: none;\n",
              "      fill: #1967D2;\n",
              "      height: 32px;\n",
              "      padding: 0 0 0 0;\n",
              "      width: 32px;\n",
              "    }\n",
              "\n",
              "    .colab-df-convert:hover {\n",
              "      background-color: #E2EBFA;\n",
              "      box-shadow: 0px 1px 2px rgba(60, 64, 67, 0.3), 0px 1px 3px 1px rgba(60, 64, 67, 0.15);\n",
              "      fill: #174EA6;\n",
              "    }\n",
              "\n",
              "    [theme=dark] .colab-df-convert {\n",
              "      background-color: #3B4455;\n",
              "      fill: #D2E3FC;\n",
              "    }\n",
              "\n",
              "    [theme=dark] .colab-df-convert:hover {\n",
              "      background-color: #434B5C;\n",
              "      box-shadow: 0px 1px 3px 1px rgba(0, 0, 0, 0.15);\n",
              "      filter: drop-shadow(0px 1px 2px rgba(0, 0, 0, 0.3));\n",
              "      fill: #FFFFFF;\n",
              "    }\n",
              "  </style>\n",
              "\n",
              "      <script>\n",
              "        const buttonEl =\n",
              "          document.querySelector('#df-d5aed2f7-fc14-4fca-820c-1e56a89e2fdb button.colab-df-convert');\n",
              "        buttonEl.style.display =\n",
              "          google.colab.kernel.accessAllowed ? 'block' : 'none';\n",
              "\n",
              "        async function convertToInteractive(key) {\n",
              "          const element = document.querySelector('#df-d5aed2f7-fc14-4fca-820c-1e56a89e2fdb');\n",
              "          const dataTable =\n",
              "            await google.colab.kernel.invokeFunction('convertToInteractive',\n",
              "                                                     [key], {});\n",
              "          if (!dataTable) return;\n",
              "\n",
              "          const docLinkHtml = 'Like what you see? Visit the ' +\n",
              "            '<a target=\"_blank\" href=https://colab.research.google.com/notebooks/data_table.ipynb>data table notebook</a>'\n",
              "            + ' to learn more about interactive tables.';\n",
              "          element.innerHTML = '';\n",
              "          dataTable['output_type'] = 'display_data';\n",
              "          await google.colab.output.renderOutput(dataTable, element);\n",
              "          const docLink = document.createElement('div');\n",
              "          docLink.innerHTML = docLinkHtml;\n",
              "          element.appendChild(docLink);\n",
              "        }\n",
              "      </script>\n",
              "    </div>\n",
              "  </div>\n",
              "  "
            ]
          },
          "metadata": {},
          "execution_count": 100
        }
      ]
    },
    {
      "cell_type": "code",
      "source": [
        "data.groupby(by='index_age').count()['patid'].plot(color='red',marker='.')\n",
        "plt.xlabel('Ages of the patients')\n",
        "plt.ylabel('No. of patients')\n",
        "plt.title('Age Distribution of Patients')"
      ],
      "metadata": {
        "colab": {
          "base_uri": "https://localhost:8080/",
          "height": 312
        },
        "id": "IuNYxYlCkwse",
        "outputId": "0e1e8e0c-563a-48d9-e253-70b44725dee1"
      },
      "execution_count": null,
      "outputs": [
        {
          "output_type": "execute_result",
          "data": {
            "text/plain": [
              "Text(0.5, 1.0, 'Age Distribution of Patients')"
            ]
          },
          "metadata": {},
          "execution_count": 101
        },
        {
          "output_type": "display_data",
          "data": {
            "text/plain": [
              "<Figure size 432x288 with 1 Axes>"
            ],
            "image/png": "[encoded data removed]"
          },
          "metadata": {
            "needs_background": "light"
          }
        }
      ]
    },
    {
      "cell_type": "markdown",
      "source": [
        "# Feature Selection"
      ],
      "metadata": {
        "id": "BrpgubkzCg4R"
      }
    },
    {
      "cell_type": "code",
      "source": [
        "y=new_data[['post_index_exc_bin']]\n",
        "x=new_data[['index_age',\n",
        " 'total_pre_index_cannisters_365',\n",
        " 'pneumonia',\n",
        " 'sinusitis',\n",
        " 'acute_bronchitis',\n",
        " 'acute_laryngitis',\n",
        " 'upper_respiratory_infection',\n",
        " 'gerd',\n",
        " 'rhinitis',\n",
        " 'drug_s',\n",
        " 'female','pre_asthma_days_bin']]"
      ],
      "metadata": {
        "id": "h4tpodrQCmNf"
      },
      "execution_count": null,
      "outputs": []
    },
    {
      "cell_type": "code",
      "source": [
        "x = x.astype(str)\n",
        "y = y.astype(str)"
      ],
      "metadata": {
        "id": "ThZvM76aVUfy"
      },
      "execution_count": null,
      "outputs": []
    },
    {
      "cell_type": "code",
      "source": [
        "from sklearn.model_selection import train_test_split\n",
        "x_train, x_test, y_train, y_test = train_test_split(x, y, test_size=0.2, random_state=1)"
      ],
      "metadata": {
        "id": "vm67sZNXFbL3"
      },
      "execution_count": null,
      "outputs": []
    },
    {
      "cell_type": "code",
      "source": [
        "# summarize\n",
        "print('Train', x_train.shape, y_train.shape)\n",
        "print('Test', x_test.shape, y_test.shape)"
      ],
      "metadata": {
        "colab": {
          "base_uri": "https://localhost:8080/"
        },
        "id": "ipElHCPWFtbf",
        "outputId": "a8546c59-f400-490f-f74e-252ff516b867"
      },
      "execution_count": null,
      "outputs": [
        {
          "output_type": "stream",
          "name": "stdout",
          "text": [
            "Train (14572, 12) (14572, 1)\n",
            "Test (3643, 12) (3643, 1)\n"
          ]
        }
      ]
    },
    {
      "cell_type": "code",
      "source": [
        "from sklearn.preprocessing import OrdinalEncoder\n",
        "# prepare input data\n",
        "def prepare_inputs(x_train, x_test):\n",
        " oe = OrdinalEncoder()\n",
        " oe.fit(x_train)\n",
        " x_train_enc = oe.transform(x_train)\n",
        " x_test_enc = oe.transform(x_test)\n",
        " return x_train_enc, x_test_enc"
      ],
      "metadata": {
        "id": "rvk7_CliGWYh"
      },
      "execution_count": null,
      "outputs": []
    },
    {
      "cell_type": "code",
      "source": [
        "from sklearn.preprocessing import LabelEncoder\n",
        "# prepare target\n",
        "def prepare_targets(y_train, y_test):\n",
        " le = LabelEncoder()\n",
        " le.fit(y_train)\n",
        " y_train_enc = le.transform(y_train)\n",
        " y_test_enc = le.transform(y_test)\n",
        " return y_train_enc, y_test_enc"
      ],
      "metadata": {
        "id": "WYYt9B-bG6ru"
      },
      "execution_count": null,
      "outputs": []
    },
    {
      "cell_type": "code",
      "source": [
        "def select_features(X_train, y_train, X_test):\n",
        "    fs = SelectKBest(score_func=chi2, k='all')\n",
        "    fs.fit(X_train, y_train)\n",
        "    X_train_fs = fs.transform(X_train)\n",
        "    X_test_fs = fs.transform(X_test)\n",
        "    return X_train_fs, X_test_fs, fs"
      ],
      "metadata": {
        "id": "SB3JCuIckKz1"
      },
      "execution_count": null,
      "outputs": []
    },
    {
      "cell_type": "code",
      "source": [
        "# prepare input data\n",
        "x_train_enc, x_test_enc = prepare_inputs(x_train, x_test)\n",
        "# prepare output data\n",
        "y_train_enc, y_test_enc = prepare_targets(y_train, y_test)"
      ],
      "metadata": {
        "id": "ys8G4T_7HFtZ",
        "colab": {
          "base_uri": "https://localhost:8080/"
        },
        "outputId": "52ee0e7b-2316-4143-b2f2-473ca0b70990"
      },
      "execution_count": null,
      "outputs": [
        {
          "output_type": "stream",
          "name": "stderr",
          "text": [
            "/usr/local/lib/python3.8/dist-packages/sklearn/preprocessing/_label.py:98: DataConversionWarning: A column-vector y was passed when a 1d array was expected. Please change the shape of y to (n_samples, ), for example using ravel().\n",
            "  y = column_or_1d(y, warn=True)\n",
            "/usr/local/lib/python3.8/dist-packages/sklearn/preprocessing/_label.py:133: DataConversionWarning: A column-vector y was passed when a 1d array was expected. Please change the shape of y to (n_samples, ), for example using ravel().\n",
            "  y = column_or_1d(y, warn=True)\n"
          ]
        }
      ]
    },
    {
      "cell_type": "code",
      "source": [
        "from sklearn.feature_selection import SelectKBest\n",
        "from sklearn.feature_selection import chi2\n",
        "fs = SelectKBest(score_func=chi2, k='all')\n",
        "fs.fit(x_train, y_train)\n",
        "x_train_fs = fs.transform(x_train)\n",
        "x_test_fs = fs.transform(x_test)"
      ],
      "metadata": {
        "id": "bGjrbKPaFznP"
      },
      "execution_count": null,
      "outputs": []
    },
    {
      "cell_type": "code",
      "source": [
        "x_train_fs, x_test_fs, fs = select_features(x_train_enc, y_train_enc, x_test_enc)"
      ],
      "metadata": {
        "id": "FsOyxSRBkQVt"
      },
      "execution_count": null,
      "outputs": []
    },
    {
      "cell_type": "code",
      "source": [
        "# what are scores for the features\n",
        "for i in range(len(fs.scores_)):\n",
        " print('Feature %d: %f' % (i, fs.scores_[i]))\n",
        "# plot the scores\n",
        "plt.bar([i for i in range(len(fs.scores_))], fs.scores_)\n",
        "plt.show()"
      ],
      "metadata": {
        "id": "xuWR-4m3TraT",
        "colab": {
          "base_uri": "https://localhost:8080/",
          "height": 473
        },
        "outputId": "8f565a2d-e733-4d3a-8d0d-8082c26785c2"
      },
      "execution_count": null,
      "outputs": [
        {
          "output_type": "stream",
          "name": "stdout",
          "text": [
            "Feature 0: 65.469796\n",
            "Feature 1: 0.003219\n",
            "Feature 2: 3.909636\n",
            "Feature 3: 3.243201\n",
            "Feature 4: 18.037853\n",
            "Feature 5: 4.030667\n",
            "Feature 6: 4.571595\n",
            "Feature 7: 8.159614\n",
            "Feature 8: 3.843362\n",
            "Feature 9: 6.996502\n",
            "Feature 10: 10.957536\n",
            "Feature 11: 15.530376\n"
          ]
        },
        {
          "output_type": "display_data",
          "data": {
            "text/plain": [
              "<Figure size 432x288 with 1 Axes>"
            ],
            "image/png": "[encoded data removed]"
          },
          "metadata": {
            "needs_background": "light"
          }
        }
      ]
    },
    {
      "cell_type": "code",
      "source": [
        "pd.DataFrame(fs.scores_,x.columns)"
      ],
      "metadata": {
        "colab": {
          "base_uri": "https://localhost:8080/",
          "height": 426
        },
        "id": "CI3GW7_frLG6",
        "outputId": "c8c329f4-55d4-4e62-b915-2eb1d4e7a0e1"
      },
      "execution_count": null,
      "outputs": [
        {
          "output_type": "execute_result",
          "data": {
            "text/plain": [
              "                                        0\n",
              "index_age                       65.469796\n",
              "total_pre_index_cannisters_365   0.003219\n",
              "pneumonia                        3.909636\n",
              "sinusitis                        3.243201\n",
              "acute_bronchitis                18.037853\n",
              "acute_laryngitis                 4.030667\n",
              "upper_respiratory_infection      4.571595\n",
              "gerd                             8.159614\n",
              "rhinitis                         3.843362\n",
              "drug_s                           6.996502\n",
              "female                          10.957536\n",
              "pre_asthma_days_bin             15.530376"
            ],
            "text/html": [
              "\n",
              "  <div id=\"df-3167191b-3a6a-4a45-a713-aeabcf9d654c\">\n",
              "    <div class=\"colab-df-container\">\n",
              "      <div>\n",
              "<style scoped>\n",
              "    .dataframe tbody tr th:only-of-type {\n",
              "        vertical-align: middle;\n",
              "    }\n",
              "\n",
              "    .dataframe tbody tr th {\n",
              "        vertical-align: top;\n",
              "    }\n",
              "\n",
              "    .dataframe thead th {\n",
              "        text-align: right;\n",
              "    }\n",
              "</style>\n",
              "<table border=\"1\" class=\"dataframe\">\n",
              "  <thead>\n",
              "    <tr style=\"text-align: right;\">\n",
              "      <th></th>\n",
              "      <th>0</th>\n",
              "    </tr>\n",
              "  </thead>\n",
              "  <tbody>\n",
              "    <tr>\n",
              "      <th>index_age</th>\n",
              "      <td>65.469796</td>\n",
              "    </tr>\n",
              "    <tr>\n",
              "      <th>total_pre_index_cannisters_365</th>\n",
              "      <td>0.003219</td>\n",
              "    </tr>\n",
              "    <tr>\n",
              "      <th>pneumonia</th>\n",
              "      <td>3.909636</td>\n",
              "    </tr>\n",
              "    <tr>\n",
              "      <th>sinusitis</th>\n",
              "      <td>3.243201</td>\n",
              "    </tr>\n",
              "    <tr>\n",
              "      <th>acute_bronchitis</th>\n",
              "      <td>18.037853</td>\n",
              "    </tr>\n",
              "    <tr>\n",
              "      <th>acute_laryngitis</th>\n",
              "      <td>4.030667</td>\n",
              "    </tr>\n",
              "    <tr>\n",
              "      <th>upper_respiratory_infection</th>\n",
              "      <td>4.571595</td>\n",
              "    </tr>\n",
              "    <tr>\n",
              "      <th>gerd</th>\n",
              "      <td>8.159614</td>\n",
              "    </tr>\n",
              "    <tr>\n",
              "      <th>rhinitis</th>\n",
              "      <td>3.843362</td>\n",
              "    </tr>\n",
              "    <tr>\n",
              "      <th>drug_s</th>\n",
              "      <td>6.996502</td>\n",
              "    </tr>\n",
              "    <tr>\n",
              "      <th>female</th>\n",
              "      <td>10.957536</td>\n",
              "    </tr>\n",
              "    <tr>\n",
              "      <th>pre_asthma_days_bin</th>\n",
              "      <td>15.530376</td>\n",
              "    </tr>\n",
              "  </tbody>\n",
              "</table>\n",
              "</div>\n",
              "      <button class=\"colab-df-convert\" onclick=\"convertToInteractive('df-3167191b-3a6a-4a45-a713-aeabcf9d654c')\"\n",
              "              title=\"Convert this dataframe to an interactive table.\"\n",
              "              style=\"display:none;\">\n",
              "        \n",
              "  <svg xmlns=\"http://www.w3.org/2000/svg\" height=\"24px\"viewBox=\"0 0 24 24\"\n",
              "       width=\"24px\">\n",
              "    <path d=\"M0 0h24v24H0V0z\" fill=\"none\"/>\n",
              "    <path d=\"M18.56 5.44l.94 2.06.94-2.06 2.06-.94-2.06-.94-.94-2.06-.94 2.06-2.06.94zm-11 1L8.5 8.5l.94-2.06 2.06-.94-2.06-.94L8.5 2.5l-.94 2.06-2.06.94zm10 10l.94 2.06.94-2.06 2.06-.94-2.06-.94-.94-2.06-.94 2.06-2.06.94z\"/><path d=\"M17.41 7.96l-1.37-1.37c-.4-.4-.92-.59-1.43-.59-.52 0-1.04.2-1.43.59L10.3 9.45l-7.72 7.72c-.78.78-.78 2.05 0 2.83L4 21.41c.39.39.9.59 1.41.59.51 0 1.02-.2 1.41-.59l7.78-7.78 2.81-2.81c.8-.78.8-2.07 0-2.86zM5.41 20L4 18.59l7.72-7.72 1.47 1.35L5.41 20z\"/>\n",
              "  </svg>\n",
              "      </button>\n",
              "      \n",
              "  <style>\n",
              "    .colab-df-container {\n",
              "      display:flex;\n",
              "      flex-wrap:wrap;\n",
              "      gap: 12px;\n",
              "    }\n",
              "\n",
              "    .colab-df-convert {\n",
              "      background-color: #E8F0FE;\n",
              "      border: none;\n",
              "      border-radius: 50%;\n",
              "      cursor: pointer;\n",
              "      display: none;\n",
              "      fill: #1967D2;\n",
              "      height: 32px;\n",
              "      padding: 0 0 0 0;\n",
              "      width: 32px;\n",
              "    }\n",
              "\n",
              "    .colab-df-convert:hover {\n",
              "      background-color: #E2EBFA;\n",
              "      box-shadow: 0px 1px 2px rgba(60, 64, 67, 0.3), 0px 1px 3px 1px rgba(60, 64, 67, 0.15);\n",
              "      fill: #174EA6;\n",
              "    }\n",
              "\n",
              "    [theme=dark] .colab-df-convert {\n",
              "      background-color: #3B4455;\n",
              "      fill: #D2E3FC;\n",
              "    }\n",
              "\n",
              "    [theme=dark] .colab-df-convert:hover {\n",
              "      background-color: #434B5C;\n",
              "      box-shadow: 0px 1px 3px 1px rgba(0, 0, 0, 0.15);\n",
              "      filter: drop-shadow(0px 1px 2px rgba(0, 0, 0, 0.3));\n",
              "      fill: #FFFFFF;\n",
              "    }\n",
              "  </style>\n",
              "\n",
              "      <script>\n",
              "        const buttonEl =\n",
              "          document.querySelector('#df-3167191b-3a6a-4a45-a713-aeabcf9d654c button.colab-df-convert');\n",
              "        buttonEl.style.display =\n",
              "          google.colab.kernel.accessAllowed ? 'block' : 'none';\n",
              "\n",
              "        async function convertToInteractive(key) {\n",
              "          const element = document.querySelector('#df-3167191b-3a6a-4a45-a713-aeabcf9d654c');\n",
              "          const dataTable =\n",
              "            await google.colab.kernel.invokeFunction('convertToInteractive',\n",
              "                                                     [key], {});\n",
              "          if (!dataTable) return;\n",
              "\n",
              "          const docLinkHtml = 'Like what you see? Visit the ' +\n",
              "            '<a target=\"_blank\" href=https://colab.research.google.com/notebooks/data_table.ipynb>data table notebook</a>'\n",
              "            + ' to learn more about interactive tables.';\n",
              "          element.innerHTML = '';\n",
              "          dataTable['output_type'] = 'display_data';\n",
              "          await google.colab.output.renderOutput(dataTable, element);\n",
              "          const docLink = document.createElement('div');\n",
              "          docLink.innerHTML = docLinkHtml;\n",
              "          element.appendChild(docLink);\n",
              "        }\n",
              "      </script>\n",
              "    </div>\n",
              "  </div>\n",
              "  "
            ]
          },
          "metadata": {},
          "execution_count": 113
        }
      ]
    },
    {
      "cell_type": "markdown",
      "source": [
        "# Model Built Using Chi-Squared Features\n"
      ],
      "metadata": {
        "id": "tjpRFE6Zn5gQ"
      }
    },
    {
      "cell_type": "code",
      "source": [
        "from sklearn.metrics import accuracy_score\n",
        "from sklearn.linear_model import LogisticRegression\n",
        "# fit the model\n",
        "model = LogisticRegression(solver='lbfgs')\n",
        "model.fit(x_train_enc, y_train_enc)\n",
        "# evaluate the model\n",
        "yhat = model.predict(x_test_enc)\n",
        "# evaluate predictions\n",
        "accuracy = accuracy_score(y_test_enc, yhat)\n",
        "print('Accuracy: %.2f' % (accuracy*100))"
      ],
      "metadata": {
        "colab": {
          "base_uri": "https://localhost:8080/"
        },
        "id": "SkfSdhIqmM13",
        "outputId": "28c03b10-2fe9-4976-dcd2-d0fc6a8b7bc0"
      },
      "execution_count": null,
      "outputs": [
        {
          "output_type": "stream",
          "name": "stdout",
          "text": [
            "Accuracy: 88.77\n"
          ]
        },
        {
          "output_type": "stream",
          "name": "stderr",
          "text": [
            "/usr/local/lib/python3.8/dist-packages/sklearn/linear_model/_logistic.py:814: ConvergenceWarning: lbfgs failed to converge (status=1):\n",
            "STOP: TOTAL NO. of ITERATIONS REACHED LIMIT.\n",
            "\n",
            "Increase the number of iterations (max_iter) or scale the data as shown in:\n",
            "    https://scikit-learn.org/stable/modules/preprocessing.html\n",
            "Please also refer to the documentation for alternative solver options:\n",
            "    https://scikit-learn.org/stable/modules/linear_model.html#logistic-regression\n",
            "  n_iter_i = _check_optimize_result(\n"
          ]
        }
      ]
    },
    {
      "cell_type": "code",
      "source": [
        "# feature selection\n",
        "def select_features(x_train, y_train, x_test):\n",
        " fs = SelectKBest(score_func=chi2, k=4)\n",
        " fs.fit(x_train, y)\n",
        " x_train_fs = fs.transform(x_train)\n",
        " x_test_fs = fs.transform(x_test)\n",
        " return x_train_fs, x_test_fs"
      ],
      "metadata": {
        "id": "Pu7k2-rmm8lo"
      },
      "execution_count": null,
      "outputs": []
    },
    {
      "cell_type": "markdown",
      "source": [
        "#Cleaned Data (Bias Removed)"
      ],
      "metadata": {
        "id": "U5CjZSHgDLcq"
      }
    },
    {
      "cell_type": "code",
      "source": [
        "clean_data=pd.read_csv('/content/example.csv')"
      ],
      "metadata": {
        "id": "SJ0vDRXUDKzM"
      },
      "execution_count": null,
      "outputs": []
    },
    {
      "cell_type": "code",
      "source": [
        "clean_data.head()"
      ],
      "metadata": {
        "colab": {
          "base_uri": "https://localhost:8080/",
          "height": 404
        },
        "id": "DU9Ey1PTDDvf",
        "outputId": "bae69b62-15a8-4dc8-fd75-4c164408b89c"
      },
      "execution_count": null,
      "outputs": [
        {
          "output_type": "execute_result",
          "data": {
            "text/plain": [
              "   7920  1285660501  15  1  1.1  0  0.1  0.2  0.3  0.4  ...  0.506820333  \\\n",
              "0  7920  1285660501  15  1    1  0    0    0    0    0  ...      0.50682   \n",
              "1  7920  1285660501  15  1    1  0    0    0    0    0  ...      0.50682   \n",
              "2  7920  1285660501  15  1    1  0    0    0    0    0  ...      0.50682   \n",
              "3  7920  1285660501  15  1    1  0    0    0    0    0  ...      0.50682   \n",
              "4  7920  1285660501  15  1    1  0    0    0    0    0  ...      0.50682   \n",
              "\n",
              "   0.261057826  0.117  0.118  0.119  0.120  0.121  18.5438321    4.4711E-28  \\\n",
              "0     0.261058      0    0.0    0.0    0.0    0.0   18.543832  4.471100e-28   \n",
              "1     0.261058      0    0.0    0.0    0.0    0.0   18.543832  4.471100e-28   \n",
              "2     0.261058      0    0.0    0.0    0.0    0.0   18.543832  4.471100e-28   \n",
              "3     0.261058      0    0.0    0.0    0.0    0.0   18.543832  4.471100e-28   \n",
              "4     0.261058      0    0.0    0.0    0.0    0.0   18.543832  4.471100e-28   \n",
              "\n",
              "   2.1  \n",
              "0    2  \n",
              "1    2  \n",
              "2    2  \n",
              "3    2  \n",
              "4    2  \n",
              "\n",
              "[5 rows x 165 columns]"
            ],
            "text/html": [
              "\n",
              "  <div id=\"df-c64c232c-1628-4c8f-9af9-983ddd955b64\">\n",
              "    <div class=\"colab-df-container\">\n",
              "      <div>\n",
              "<style scoped>\n",
              "    .dataframe tbody tr th:only-of-type {\n",
              "        vertical-align: middle;\n",
              "    }\n",
              "\n",
              "    .dataframe tbody tr th {\n",
              "        vertical-align: top;\n",
              "    }\n",
              "\n",
              "    .dataframe thead th {\n",
              "        text-align: right;\n",
              "    }\n",
              "</style>\n",
              "<table border=\"1\" class=\"dataframe\">\n",
              "  <thead>\n",
              "    <tr style=\"text-align: right;\">\n",
              "      <th></th>\n",
              "      <th>7920</th>\n",
              "      <th>1285660501</th>\n",
              "      <th>15</th>\n",
              "      <th>1</th>\n",
              "      <th>1.1</th>\n",
              "      <th>0</th>\n",
              "      <th>0.1</th>\n",
              "      <th>0.2</th>\n",
              "      <th>0.3</th>\n",
              "      <th>0.4</th>\n",
              "      <th>...</th>\n",
              "      <th>0.506820333</th>\n",
              "      <th>0.261057826</th>\n",
              "      <th>0.117</th>\n",
              "      <th>0.118</th>\n",
              "      <th>0.119</th>\n",
              "      <th>0.120</th>\n",
              "      <th>0.121</th>\n",
              "      <th>18.5438321</th>\n",
              "      <th>4.4711E-28</th>\n",
              "      <th>2.1</th>\n",
              "    </tr>\n",
              "  </thead>\n",
              "  <tbody>\n",
              "    <tr>\n",
              "      <th>0</th>\n",
              "      <td>7920</td>\n",
              "      <td>1285660501</td>\n",
              "      <td>15</td>\n",
              "      <td>1</td>\n",
              "      <td>1</td>\n",
              "      <td>0</td>\n",
              "      <td>0</td>\n",
              "      <td>0</td>\n",
              "      <td>0</td>\n",
              "      <td>0</td>\n",
              "      <td>...</td>\n",
              "      <td>0.50682</td>\n",
              "      <td>0.261058</td>\n",
              "      <td>0</td>\n",
              "      <td>0.0</td>\n",
              "      <td>0.0</td>\n",
              "      <td>0.0</td>\n",
              "      <td>0.0</td>\n",
              "      <td>18.543832</td>\n",
              "      <td>4.471100e-28</td>\n",
              "      <td>2</td>\n",
              "    </tr>\n",
              "    <tr>\n",
              "      <th>1</th>\n",
              "      <td>7920</td>\n",
              "      <td>1285660501</td>\n",
              "      <td>15</td>\n",
              "      <td>1</td>\n",
              "      <td>1</td>\n",
              "      <td>0</td>\n",
              "      <td>0</td>\n",
              "      <td>0</td>\n",
              "      <td>0</td>\n",
              "      <td>0</td>\n",
              "      <td>...</td>\n",
              "      <td>0.50682</td>\n",
              "      <td>0.261058</td>\n",
              "      <td>0</td>\n",
              "      <td>0.0</td>\n",
              "      <td>0.0</td>\n",
              "      <td>0.0</td>\n",
              "      <td>0.0</td>\n",
              "      <td>18.543832</td>\n",
              "      <td>4.471100e-28</td>\n",
              "      <td>2</td>\n",
              "    </tr>\n",
              "    <tr>\n",
              "      <th>2</th>\n",
              "      <td>7920</td>\n",
              "      <td>1285660501</td>\n",
              "      <td>15</td>\n",
              "      <td>1</td>\n",
              "      <td>1</td>\n",
              "      <td>0</td>\n",
              "      <td>0</td>\n",
              "      <td>0</td>\n",
              "      <td>0</td>\n",
              "      <td>0</td>\n",
              "      <td>...</td>\n",
              "      <td>0.50682</td>\n",
              "      <td>0.261058</td>\n",
              "      <td>0</td>\n",
              "      <td>0.0</td>\n",
              "      <td>0.0</td>\n",
              "      <td>0.0</td>\n",
              "      <td>0.0</td>\n",
              "      <td>18.543832</td>\n",
              "      <td>4.471100e-28</td>\n",
              "      <td>2</td>\n",
              "    </tr>\n",
              "    <tr>\n",
              "      <th>3</th>\n",
              "      <td>7920</td>\n",
              "      <td>1285660501</td>\n",
              "      <td>15</td>\n",
              "      <td>1</td>\n",
              "      <td>1</td>\n",
              "      <td>0</td>\n",
              "      <td>0</td>\n",
              "      <td>0</td>\n",
              "      <td>0</td>\n",
              "      <td>0</td>\n",
              "      <td>...</td>\n",
              "      <td>0.50682</td>\n",
              "      <td>0.261058</td>\n",
              "      <td>0</td>\n",
              "      <td>0.0</td>\n",
              "      <td>0.0</td>\n",
              "      <td>0.0</td>\n",
              "      <td>0.0</td>\n",
              "      <td>18.543832</td>\n",
              "      <td>4.471100e-28</td>\n",
              "      <td>2</td>\n",
              "    </tr>\n",
              "    <tr>\n",
              "      <th>4</th>\n",
              "      <td>7920</td>\n",
              "      <td>1285660501</td>\n",
              "      <td>15</td>\n",
              "      <td>1</td>\n",
              "      <td>1</td>\n",
              "      <td>0</td>\n",
              "      <td>0</td>\n",
              "      <td>0</td>\n",
              "      <td>0</td>\n",
              "      <td>0</td>\n",
              "      <td>...</td>\n",
              "      <td>0.50682</td>\n",
              "      <td>0.261058</td>\n",
              "      <td>0</td>\n",
              "      <td>0.0</td>\n",
              "      <td>0.0</td>\n",
              "      <td>0.0</td>\n",
              "      <td>0.0</td>\n",
              "      <td>18.543832</td>\n",
              "      <td>4.471100e-28</td>\n",
              "      <td>2</td>\n",
              "    </tr>\n",
              "  </tbody>\n",
              "</table>\n",
              "<p>5 rows × 165 columns</p>\n",
              "</div>\n",
              "      <button class=\"colab-df-convert\" onclick=\"convertToInteractive('df-c64c232c-1628-4c8f-9af9-983ddd955b64')\"\n",
              "              title=\"Convert this dataframe to an interactive table.\"\n",
              "              style=\"display:none;\">\n",
              "        \n",
              "  <svg xmlns=\"http://www.w3.org/2000/svg\" height=\"24px\"viewBox=\"0 0 24 24\"\n",
              "       width=\"24px\">\n",
              "    <path d=\"M0 0h24v24H0V0z\" fill=\"none\"/>\n",
              "    <path d=\"M18.56 5.44l.94 2.06.94-2.06 2.06-.94-2.06-.94-.94-2.06-.94 2.06-2.06.94zm-11 1L8.5 8.5l.94-2.06 2.06-.94-2.06-.94L8.5 2.5l-.94 2.06-2.06.94zm10 10l.94 2.06.94-2.06 2.06-.94-2.06-.94-.94-2.06-.94 2.06-2.06.94z\"/><path d=\"M17.41 7.96l-1.37-1.37c-.4-.4-.92-.59-1.43-.59-.52 0-1.04.2-1.43.59L10.3 9.45l-7.72 7.72c-.78.78-.78 2.05 0 2.83L4 21.41c.39.39.9.59 1.41.59.51 0 1.02-.2 1.41-.59l7.78-7.78 2.81-2.81c.8-.78.8-2.07 0-2.86zM5.41 20L4 18.59l7.72-7.72 1.47 1.35L5.41 20z\"/>\n",
              "  </svg>\n",
              "      </button>\n",
              "      \n",
              "  <style>\n",
              "    .colab-df-container {\n",
              "      display:flex;\n",
              "      flex-wrap:wrap;\n",
              "      gap: 12px;\n",
              "    }\n",
              "\n",
              "    .colab-df-convert {\n",
              "      background-color: #E8F0FE;\n",
              "      border: none;\n",
              "      border-radius: 50%;\n",
              "      cursor: pointer;\n",
              "      display: none;\n",
              "      fill: #1967D2;\n",
              "      height: 32px;\n",
              "      padding: 0 0 0 0;\n",
              "      width: 32px;\n",
              "    }\n",
              "\n",
              "    .colab-df-convert:hover {\n",
              "      background-color: #E2EBFA;\n",
              "      box-shadow: 0px 1px 2px rgba(60, 64, 67, 0.3), 0px 1px 3px 1px rgba(60, 64, 67, 0.15);\n",
              "      fill: #174EA6;\n",
              "    }\n",
              "\n",
              "    [theme=dark] .colab-df-convert {\n",
              "      background-color: #3B4455;\n",
              "      fill: #D2E3FC;\n",
              "    }\n",
              "\n",
              "    [theme=dark] .colab-df-convert:hover {\n",
              "      background-color: #434B5C;\n",
              "      box-shadow: 0px 1px 3px 1px rgba(0, 0, 0, 0.15);\n",
              "      filter: drop-shadow(0px 1px 2px rgba(0, 0, 0, 0.3));\n",
              "      fill: #FFFFFF;\n",
              "    }\n",
              "  </style>\n",
              "\n",
              "      <script>\n",
              "        const buttonEl =\n",
              "          document.querySelector('#df-c64c232c-1628-4c8f-9af9-983ddd955b64 button.colab-df-convert');\n",
              "        buttonEl.style.display =\n",
              "          google.colab.kernel.accessAllowed ? 'block' : 'none';\n",
              "\n",
              "        async function convertToInteractive(key) {\n",
              "          const element = document.querySelector('#df-c64c232c-1628-4c8f-9af9-983ddd955b64');\n",
              "          const dataTable =\n",
              "            await google.colab.kernel.invokeFunction('convertToInteractive',\n",
              "                                                     [key], {});\n",
              "          if (!dataTable) return;\n",
              "\n",
              "          const docLinkHtml = 'Like what you see? Visit the ' +\n",
              "            '<a target=\"_blank\" href=https://colab.research.google.com/notebooks/data_table.ipynb>data table notebook</a>'\n",
              "            + ' to learn more about interactive tables.';\n",
              "          element.innerHTML = '';\n",
              "          dataTable['output_type'] = 'display_data';\n",
              "          await google.colab.output.renderOutput(dataTable, element);\n",
              "          const docLink = document.createElement('div');\n",
              "          docLink.innerHTML = docLinkHtml;\n",
              "          element.appendChild(docLink);\n",
              "        }\n",
              "      </script>\n",
              "    </div>\n",
              "  </div>\n",
              "  "
            ]
          },
          "metadata": {},
          "execution_count": 140
        }
      ]
    },
    {
      "cell_type": "code",
      "source": [
        "new=clean_data.copy()"
      ],
      "metadata": {
        "id": "YNUOR8bxIn4Z"
      },
      "execution_count": null,
      "outputs": []
    },
    {
      "cell_type": "code",
      "source": [
        "sns.distplot(sorted(clean_data['index_age']),color='green')\n",
        "plt.xlabel('Ages of the patients')\n",
        "plt.ylabel('No. of patients')\n",
        "plt.title('Age Distribution of Patients')"
      ],
      "metadata": {
        "colab": {
          "base_uri": "https://localhost:8080/",
          "height": 502
        },
        "id": "TUcSt0PYC5nk",
        "outputId": "22eb7584-af3a-4066-9234-85766d6953fd"
      },
      "execution_count": null,
      "outputs": [
        {
          "output_type": "error",
          "ename": "KeyError",
          "evalue": "ignored",
          "traceback": [
            "\u001b[0;31m---------------------------------------------------------------------------\u001b[0m",
            "\u001b[0;31mKeyError\u001b[0m                                  Traceback (most recent call last)",
            "\u001b[0;32m/usr/local/lib/python3.8/dist-packages/pandas/core/indexes/base.py\u001b[0m in \u001b[0;36mget_loc\u001b[0;34m(self, key, method, tolerance)\u001b[0m\n\u001b[1;32m   3360\u001b[0m             \u001b[0;32mtry\u001b[0m\u001b[0;34m:\u001b[0m\u001b[0;34m\u001b[0m\u001b[0;34m\u001b[0m\u001b[0m\n\u001b[0;32m-> 3361\u001b[0;31m                 \u001b[0;32mreturn\u001b[0m \u001b[0mself\u001b[0m\u001b[0;34m.\u001b[0m\u001b[0m_engine\u001b[0m\u001b[0;34m.\u001b[0m\u001b[0mget_loc\u001b[0m\u001b[0;34m(\u001b[0m\u001b[0mcasted_key\u001b[0m\u001b[0;34m)\u001b[0m\u001b[0;34m\u001b[0m\u001b[0;34m\u001b[0m\u001b[0m\n\u001b[0m\u001b[1;32m   3362\u001b[0m             \u001b[0;32mexcept\u001b[0m \u001b[0mKeyError\u001b[0m \u001b[0;32mas\u001b[0m \u001b[0merr\u001b[0m\u001b[0;34m:\u001b[0m\u001b[0;34m\u001b[0m\u001b[0;34m\u001b[0m\u001b[0m\n",
            "\u001b[0;32m/usr/local/lib/python3.8/dist-packages/pandas/_libs/index.pyx\u001b[0m in \u001b[0;36mpandas._libs.index.IndexEngine.get_loc\u001b[0;34m()\u001b[0m\n",
            "\u001b[0;32m/usr/local/lib/python3.8/dist-packages/pandas/_libs/index.pyx\u001b[0m in \u001b[0;36mpandas._libs.index.IndexEngine.get_loc\u001b[0;34m()\u001b[0m\n",
            "\u001b[0;32mpandas/_libs/hashtable_class_helper.pxi\u001b[0m in \u001b[0;36mpandas._libs.hashtable.PyObjectHashTable.get_item\u001b[0;34m()\u001b[0m\n",
            "\u001b[0;32mpandas/_libs/hashtable_class_helper.pxi\u001b[0m in \u001b[0;36mpandas._libs.hashtable.PyObjectHashTable.get_item\u001b[0;34m()\u001b[0m\n",
            "\u001b[0;31mKeyError\u001b[0m: 'index_age'",
            "\nThe above exception was the direct cause of the following exception:\n",
            "\u001b[0;31mKeyError\u001b[0m                                  Traceback (most recent call last)",
            "\u001b[0;32m<ipython-input-138-e3d063463a0f>\u001b[0m in \u001b[0;36m<module>\u001b[0;34m\u001b[0m\n\u001b[0;32m----> 1\u001b[0;31m \u001b[0msns\u001b[0m\u001b[0;34m.\u001b[0m\u001b[0mdistplot\u001b[0m\u001b[0;34m(\u001b[0m\u001b[0msorted\u001b[0m\u001b[0;34m(\u001b[0m\u001b[0mclean_data\u001b[0m\u001b[0;34m[\u001b[0m\u001b[0;34m'index_age'\u001b[0m\u001b[0;34m]\u001b[0m\u001b[0;34m)\u001b[0m\u001b[0;34m,\u001b[0m\u001b[0mcolor\u001b[0m\u001b[0;34m=\u001b[0m\u001b[0;34m'green'\u001b[0m\u001b[0;34m)\u001b[0m\u001b[0;34m\u001b[0m\u001b[0;34m\u001b[0m\u001b[0m\n\u001b[0m\u001b[1;32m      2\u001b[0m \u001b[0mplt\u001b[0m\u001b[0;34m.\u001b[0m\u001b[0mxlabel\u001b[0m\u001b[0;34m(\u001b[0m\u001b[0;34m'Ages of the patients'\u001b[0m\u001b[0;34m)\u001b[0m\u001b[0;34m\u001b[0m\u001b[0;34m\u001b[0m\u001b[0m\n\u001b[1;32m      3\u001b[0m \u001b[0mplt\u001b[0m\u001b[0;34m.\u001b[0m\u001b[0mylabel\u001b[0m\u001b[0;34m(\u001b[0m\u001b[0;34m'No. of patients'\u001b[0m\u001b[0;34m)\u001b[0m\u001b[0;34m\u001b[0m\u001b[0;34m\u001b[0m\u001b[0m\n\u001b[1;32m      4\u001b[0m \u001b[0mplt\u001b[0m\u001b[0;34m.\u001b[0m\u001b[0mtitle\u001b[0m\u001b[0;34m(\u001b[0m\u001b[0;34m'Age Distribution of Patients'\u001b[0m\u001b[0;34m)\u001b[0m\u001b[0;34m\u001b[0m\u001b[0;34m\u001b[0m\u001b[0m\n",
            "\u001b[0;32m/usr/local/lib/python3.8/dist-packages/pandas/core/frame.py\u001b[0m in \u001b[0;36m__getitem__\u001b[0;34m(self, key)\u001b[0m\n\u001b[1;32m   3456\u001b[0m             \u001b[0;32mif\u001b[0m \u001b[0mself\u001b[0m\u001b[0;34m.\u001b[0m\u001b[0mcolumns\u001b[0m\u001b[0;34m.\u001b[0m\u001b[0mnlevels\u001b[0m \u001b[0;34m>\u001b[0m \u001b[0;36m1\u001b[0m\u001b[0;34m:\u001b[0m\u001b[0;34m\u001b[0m\u001b[0;34m\u001b[0m\u001b[0m\n\u001b[1;32m   3457\u001b[0m                 \u001b[0;32mreturn\u001b[0m \u001b[0mself\u001b[0m\u001b[0;34m.\u001b[0m\u001b[0m_getitem_multilevel\u001b[0m\u001b[0;34m(\u001b[0m\u001b[0mkey\u001b[0m\u001b[0;34m)\u001b[0m\u001b[0;34m\u001b[0m\u001b[0;34m\u001b[0m\u001b[0m\n\u001b[0;32m-> 3458\u001b[0;31m             \u001b[0mindexer\u001b[0m \u001b[0;34m=\u001b[0m \u001b[0mself\u001b[0m\u001b[0;34m.\u001b[0m\u001b[0mcolumns\u001b[0m\u001b[0;34m.\u001b[0m\u001b[0mget_loc\u001b[0m\u001b[0;34m(\u001b[0m\u001b[0mkey\u001b[0m\u001b[0;34m)\u001b[0m\u001b[0;34m\u001b[0m\u001b[0;34m\u001b[0m\u001b[0m\n\u001b[0m\u001b[1;32m   3459\u001b[0m             \u001b[0;32mif\u001b[0m \u001b[0mis_integer\u001b[0m\u001b[0;34m(\u001b[0m\u001b[0mindexer\u001b[0m\u001b[0;34m)\u001b[0m\u001b[0;34m:\u001b[0m\u001b[0;34m\u001b[0m\u001b[0;34m\u001b[0m\u001b[0m\n\u001b[1;32m   3460\u001b[0m                 \u001b[0mindexer\u001b[0m \u001b[0;34m=\u001b[0m \u001b[0;34m[\u001b[0m\u001b[0mindexer\u001b[0m\u001b[0;34m]\u001b[0m\u001b[0;34m\u001b[0m\u001b[0;34m\u001b[0m\u001b[0m\n",
            "\u001b[0;32m/usr/local/lib/python3.8/dist-packages/pandas/core/indexes/base.py\u001b[0m in \u001b[0;36mget_loc\u001b[0;34m(self, key, method, tolerance)\u001b[0m\n\u001b[1;32m   3361\u001b[0m                 \u001b[0;32mreturn\u001b[0m \u001b[0mself\u001b[0m\u001b[0;34m.\u001b[0m\u001b[0m_engine\u001b[0m\u001b[0;34m.\u001b[0m\u001b[0mget_loc\u001b[0m\u001b[0;34m(\u001b[0m\u001b[0mcasted_key\u001b[0m\u001b[0;34m)\u001b[0m\u001b[0;34m\u001b[0m\u001b[0;34m\u001b[0m\u001b[0m\n\u001b[1;32m   3362\u001b[0m             \u001b[0;32mexcept\u001b[0m \u001b[0mKeyError\u001b[0m \u001b[0;32mas\u001b[0m \u001b[0merr\u001b[0m\u001b[0;34m:\u001b[0m\u001b[0;34m\u001b[0m\u001b[0;34m\u001b[0m\u001b[0m\n\u001b[0;32m-> 3363\u001b[0;31m                 \u001b[0;32mraise\u001b[0m \u001b[0mKeyError\u001b[0m\u001b[0;34m(\u001b[0m\u001b[0mkey\u001b[0m\u001b[0;34m)\u001b[0m \u001b[0;32mfrom\u001b[0m \u001b[0merr\u001b[0m\u001b[0;34m\u001b[0m\u001b[0;34m\u001b[0m\u001b[0m\n\u001b[0m\u001b[1;32m   3364\u001b[0m \u001b[0;34m\u001b[0m\u001b[0m\n\u001b[1;32m   3365\u001b[0m         \u001b[0;32mif\u001b[0m \u001b[0mis_scalar\u001b[0m\u001b[0;34m(\u001b[0m\u001b[0mkey\u001b[0m\u001b[0;34m)\u001b[0m \u001b[0;32mand\u001b[0m \u001b[0misna\u001b[0m\u001b[0;34m(\u001b[0m\u001b[0mkey\u001b[0m\u001b[0;34m)\u001b[0m \u001b[0;32mand\u001b[0m \u001b[0;32mnot\u001b[0m \u001b[0mself\u001b[0m\u001b[0;34m.\u001b[0m\u001b[0mhasnans\u001b[0m\u001b[0;34m:\u001b[0m\u001b[0;34m\u001b[0m\u001b[0;34m\u001b[0m\u001b[0m\n",
            "\u001b[0;31mKeyError\u001b[0m: 'index_age'"
          ]
        }
      ]
    },
    {
      "cell_type": "code",
      "source": [
        "y1=new[['post_index_exc_bin']]\n",
        "x1=new[['index_age',\n",
        " 'total_pre_index_cannisters_365',\n",
        " 'pneumonia',\n",
        " 'sinusitis',\n",
        " 'acute_bronchitis',\n",
        " 'acute_laryngitis',\n",
        " 'upper_respiratory_infection',\n",
        " 'gerd',\n",
        " 'rhinitis',\n",
        " 'drug_s',\n",
        " 'female','pre_asthma_days_bin']]"
      ],
      "metadata": {
        "id": "eulhKcxWIO5i"
      },
      "execution_count": null,
      "outputs": []
    },
    {
      "cell_type": "code",
      "source": [
        "new['age_group']=AG(new['index_age'])\n",
        "new['post_index_exc_bin']=response(new['post_index_exacerbations365'])\n",
        "new['pre_asthma_days_bin']=pre_as(new['pre_asthma_days'])"
      ],
      "metadata": {
        "id": "sdUePY_JI0Aj"
      },
      "execution_count": null,
      "outputs": []
    },
    {
      "cell_type": "code",
      "source": [
        "from sklearn.model_selection import train_test_split\n",
        "x1_train, x1_test, y1_train, y1_test = train_test_split(x1, y1, test_size=0.2, random_state=1)"
      ],
      "metadata": {
        "id": "4-Ebe-hvJXfT"
      },
      "execution_count": null,
      "outputs": []
    },
    {
      "cell_type": "code",
      "source": [
        "# summarize\n",
        "print('Train', x1_train.shape, y1_train.shape)\n",
        "print('Test', x1_test.shape, y1_test.shape)"
      ],
      "metadata": {
        "colab": {
          "base_uri": "https://localhost:8080/"
        },
        "id": "OnFQS-VxJiJa",
        "outputId": "5473c3fe-cf9e-4fa8-ed3d-0c654df02761"
      },
      "execution_count": null,
      "outputs": [
        {
          "output_type": "stream",
          "name": "stdout",
          "text": [
            "Train (14572, 12) (14572, 1)\n",
            "Test (3643, 12) (3643, 1)\n"
          ]
        }
      ]
    },
    {
      "cell_type": "code",
      "source": [
        "# prepare input data\n",
        "x1_train_enc, x1_test_enc = prepare_inputs(x1_train, x1_test)\n",
        "# prepare output data\n",
        "y1_train_enc, y1_test_enc = prepare_targets(y1_train, y1_test)"
      ],
      "metadata": {
        "colab": {
          "base_uri": "https://localhost:8080/"
        },
        "id": "QpoqNFJkJl5e",
        "outputId": "a018f054-0e10-4630-bd5a-985a58328816"
      },
      "execution_count": null,
      "outputs": [
        {
          "output_type": "stream",
          "name": "stderr",
          "text": [
            "/usr/local/lib/python3.8/dist-packages/sklearn/preprocessing/_label.py:98: DataConversionWarning: A column-vector y was passed when a 1d array was expected. Please change the shape of y to (n_samples, ), for example using ravel().\n",
            "  y = column_or_1d(y, warn=True)\n",
            "/usr/local/lib/python3.8/dist-packages/sklearn/preprocessing/_label.py:133: DataConversionWarning: A column-vector y was passed when a 1d array was expected. Please change the shape of y to (n_samples, ), for example using ravel().\n",
            "  y = column_or_1d(y, warn=True)\n"
          ]
        }
      ]
    },
    {
      "cell_type": "code",
      "source": [
        "from sklearn.feature_selection import SelectKBest\n",
        "from sklearn.feature_selection import chi2\n",
        "fs1 = SelectKBest(score_func=chi2, k='all')\n",
        "fs1.fit(x1_train, y1_train)\n",
        "x1_train_fs = fs1.transform(x1_train)\n",
        "x1_test_fs = fs1.transform(x1_test)"
      ],
      "metadata": {
        "id": "TuE7oWuHJudG"
      },
      "execution_count": null,
      "outputs": []
    },
    {
      "cell_type": "code",
      "source": [
        "x1_train_fs, x1_test_fs, fs1 = select_features(x1_train_enc, y1_train_enc, x1_test_enc)"
      ],
      "metadata": {
        "colab": {
          "base_uri": "https://localhost:8080/",
          "height": 311
        },
        "id": "EG97FJscMB8D",
        "outputId": "61b9882b-1e8f-44b2-e89c-30392252dc25"
      },
      "execution_count": null,
      "outputs": [
        {
          "output_type": "error",
          "ename": "ValueError",
          "evalue": "ignored",
          "traceback": [
            "\u001b[0;31m---------------------------------------------------------------------------\u001b[0m",
            "\u001b[0;31mValueError\u001b[0m                                Traceback (most recent call last)",
            "\u001b[0;32m<ipython-input-124-f6a0a4a07011>\u001b[0m in \u001b[0;36m<module>\u001b[0;34m\u001b[0m\n\u001b[0;32m----> 1\u001b[0;31m \u001b[0mx1_train_fs\u001b[0m\u001b[0;34m,\u001b[0m \u001b[0mx1_test_fs\u001b[0m\u001b[0;34m,\u001b[0m \u001b[0mfs1\u001b[0m \u001b[0;34m=\u001b[0m \u001b[0mselect_features\u001b[0m\u001b[0;34m(\u001b[0m\u001b[0mx1_train_enc\u001b[0m\u001b[0;34m,\u001b[0m \u001b[0my1_train_enc\u001b[0m\u001b[0;34m,\u001b[0m \u001b[0mx1_test_enc\u001b[0m\u001b[0;34m)\u001b[0m\u001b[0;34m\u001b[0m\u001b[0;34m\u001b[0m\u001b[0m\n\u001b[0m",
            "\u001b[0;32m<ipython-input-115-f0772c6b6ce3>\u001b[0m in \u001b[0;36mselect_features\u001b[0;34m(x_train, y_train, x_test)\u001b[0m\n\u001b[1;32m      2\u001b[0m \u001b[0;32mdef\u001b[0m \u001b[0mselect_features\u001b[0m\u001b[0;34m(\u001b[0m\u001b[0mx_train\u001b[0m\u001b[0;34m,\u001b[0m \u001b[0my_train\u001b[0m\u001b[0;34m,\u001b[0m \u001b[0mx_test\u001b[0m\u001b[0;34m)\u001b[0m\u001b[0;34m:\u001b[0m\u001b[0;34m\u001b[0m\u001b[0;34m\u001b[0m\u001b[0m\n\u001b[1;32m      3\u001b[0m  \u001b[0mfs\u001b[0m \u001b[0;34m=\u001b[0m \u001b[0mSelectKBest\u001b[0m\u001b[0;34m(\u001b[0m\u001b[0mscore_func\u001b[0m\u001b[0;34m=\u001b[0m\u001b[0mchi2\u001b[0m\u001b[0;34m,\u001b[0m \u001b[0mk\u001b[0m\u001b[0;34m=\u001b[0m\u001b[0;36m4\u001b[0m\u001b[0;34m)\u001b[0m\u001b[0;34m\u001b[0m\u001b[0;34m\u001b[0m\u001b[0m\n\u001b[0;32m----> 4\u001b[0;31m  \u001b[0mfs\u001b[0m\u001b[0;34m.\u001b[0m\u001b[0mfit\u001b[0m\u001b[0;34m(\u001b[0m\u001b[0mx_train\u001b[0m\u001b[0;34m,\u001b[0m \u001b[0my\u001b[0m\u001b[0;34m)\u001b[0m\u001b[0;34m\u001b[0m\u001b[0;34m\u001b[0m\u001b[0m\n\u001b[0m\u001b[1;32m      5\u001b[0m  \u001b[0mx_train_fs\u001b[0m \u001b[0;34m=\u001b[0m \u001b[0mfs\u001b[0m\u001b[0;34m.\u001b[0m\u001b[0mtransform\u001b[0m\u001b[0;34m(\u001b[0m\u001b[0mx_train\u001b[0m\u001b[0;34m)\u001b[0m\u001b[0;34m\u001b[0m\u001b[0;34m\u001b[0m\u001b[0m\n\u001b[1;32m      6\u001b[0m  \u001b[0mx_test_fs\u001b[0m \u001b[0;34m=\u001b[0m \u001b[0mfs\u001b[0m\u001b[0;34m.\u001b[0m\u001b[0mtransform\u001b[0m\u001b[0;34m(\u001b[0m\u001b[0mx_test\u001b[0m\u001b[0;34m)\u001b[0m\u001b[0;34m\u001b[0m\u001b[0;34m\u001b[0m\u001b[0m\n",
            "\u001b[0;32m/usr/local/lib/python3.8/dist-packages/sklearn/feature_selection/_univariate_selection.py\u001b[0m in \u001b[0;36mfit\u001b[0;34m(self, X, y)\u001b[0m\n\u001b[1;32m    395\u001b[0m             \u001b[0mReturns\u001b[0m \u001b[0mthe\u001b[0m \u001b[0minstance\u001b[0m \u001b[0mitself\u001b[0m\u001b[0;34m.\u001b[0m\u001b[0;34m\u001b[0m\u001b[0;34m\u001b[0m\u001b[0m\n\u001b[1;32m    396\u001b[0m         \"\"\"\n\u001b[0;32m--> 397\u001b[0;31m         X, y = self._validate_data(\n\u001b[0m\u001b[1;32m    398\u001b[0m             \u001b[0mX\u001b[0m\u001b[0;34m,\u001b[0m \u001b[0my\u001b[0m\u001b[0;34m,\u001b[0m \u001b[0maccept_sparse\u001b[0m\u001b[0;34m=\u001b[0m\u001b[0;34m[\u001b[0m\u001b[0;34m\"csr\"\u001b[0m\u001b[0;34m,\u001b[0m \u001b[0;34m\"csc\"\u001b[0m\u001b[0;34m]\u001b[0m\u001b[0;34m,\u001b[0m \u001b[0mmulti_output\u001b[0m\u001b[0;34m=\u001b[0m\u001b[0;32mTrue\u001b[0m\u001b[0;34m\u001b[0m\u001b[0;34m\u001b[0m\u001b[0m\n\u001b[1;32m    399\u001b[0m         )\n",
            "\u001b[0;32m/usr/local/lib/python3.8/dist-packages/sklearn/base.py\u001b[0m in \u001b[0;36m_validate_data\u001b[0;34m(self, X, y, reset, validate_separately, **check_params)\u001b[0m\n\u001b[1;32m    579\u001b[0m                 \u001b[0my\u001b[0m \u001b[0;34m=\u001b[0m \u001b[0mcheck_array\u001b[0m\u001b[0;34m(\u001b[0m\u001b[0my\u001b[0m\u001b[0;34m,\u001b[0m \u001b[0;34m**\u001b[0m\u001b[0mcheck_y_params\u001b[0m\u001b[0;34m)\u001b[0m\u001b[0;34m\u001b[0m\u001b[0;34m\u001b[0m\u001b[0m\n\u001b[1;32m    580\u001b[0m             \u001b[0;32melse\u001b[0m\u001b[0;34m:\u001b[0m\u001b[0;34m\u001b[0m\u001b[0;34m\u001b[0m\u001b[0m\n\u001b[0;32m--> 581\u001b[0;31m                 \u001b[0mX\u001b[0m\u001b[0;34m,\u001b[0m \u001b[0my\u001b[0m \u001b[0;34m=\u001b[0m \u001b[0mcheck_X_y\u001b[0m\u001b[0;34m(\u001b[0m\u001b[0mX\u001b[0m\u001b[0;34m,\u001b[0m \u001b[0my\u001b[0m\u001b[0;34m,\u001b[0m \u001b[0;34m**\u001b[0m\u001b[0mcheck_params\u001b[0m\u001b[0;34m)\u001b[0m\u001b[0;34m\u001b[0m\u001b[0;34m\u001b[0m\u001b[0m\n\u001b[0m\u001b[1;32m    582\u001b[0m             \u001b[0mout\u001b[0m \u001b[0;34m=\u001b[0m \u001b[0mX\u001b[0m\u001b[0;34m,\u001b[0m \u001b[0my\u001b[0m\u001b[0;34m\u001b[0m\u001b[0;34m\u001b[0m\u001b[0m\n\u001b[1;32m    583\u001b[0m \u001b[0;34m\u001b[0m\u001b[0m\n",
            "\u001b[0;32m/usr/local/lib/python3.8/dist-packages/sklearn/utils/validation.py\u001b[0m in \u001b[0;36mcheck_X_y\u001b[0;34m(X, y, accept_sparse, accept_large_sparse, dtype, order, copy, force_all_finite, ensure_2d, allow_nd, multi_output, ensure_min_samples, ensure_min_features, y_numeric, estimator)\u001b[0m\n\u001b[1;32m    979\u001b[0m     \u001b[0my\u001b[0m \u001b[0;34m=\u001b[0m \u001b[0m_check_y\u001b[0m\u001b[0;34m(\u001b[0m\u001b[0my\u001b[0m\u001b[0;34m,\u001b[0m \u001b[0mmulti_output\u001b[0m\u001b[0;34m=\u001b[0m\u001b[0mmulti_output\u001b[0m\u001b[0;34m,\u001b[0m \u001b[0my_numeric\u001b[0m\u001b[0;34m=\u001b[0m\u001b[0my_numeric\u001b[0m\u001b[0;34m)\u001b[0m\u001b[0;34m\u001b[0m\u001b[0;34m\u001b[0m\u001b[0m\n\u001b[1;32m    980\u001b[0m \u001b[0;34m\u001b[0m\u001b[0m\n\u001b[0;32m--> 981\u001b[0;31m     \u001b[0mcheck_consistent_length\u001b[0m\u001b[0;34m(\u001b[0m\u001b[0mX\u001b[0m\u001b[0;34m,\u001b[0m \u001b[0my\u001b[0m\u001b[0;34m)\u001b[0m\u001b[0;34m\u001b[0m\u001b[0;34m\u001b[0m\u001b[0m\n\u001b[0m\u001b[1;32m    982\u001b[0m \u001b[0;34m\u001b[0m\u001b[0m\n\u001b[1;32m    983\u001b[0m     \u001b[0;32mreturn\u001b[0m \u001b[0mX\u001b[0m\u001b[0;34m,\u001b[0m \u001b[0my\u001b[0m\u001b[0;34m\u001b[0m\u001b[0;34m\u001b[0m\u001b[0m\n",
            "\u001b[0;32m/usr/local/lib/python3.8/dist-packages/sklearn/utils/validation.py\u001b[0m in \u001b[0;36mcheck_consistent_length\u001b[0;34m(*arrays)\u001b[0m\n\u001b[1;32m    330\u001b[0m     \u001b[0muniques\u001b[0m \u001b[0;34m=\u001b[0m \u001b[0mnp\u001b[0m\u001b[0;34m.\u001b[0m\u001b[0munique\u001b[0m\u001b[0;34m(\u001b[0m\u001b[0mlengths\u001b[0m\u001b[0;34m)\u001b[0m\u001b[0;34m\u001b[0m\u001b[0;34m\u001b[0m\u001b[0m\n\u001b[1;32m    331\u001b[0m     \u001b[0;32mif\u001b[0m \u001b[0mlen\u001b[0m\u001b[0;34m(\u001b[0m\u001b[0muniques\u001b[0m\u001b[0;34m)\u001b[0m \u001b[0;34m>\u001b[0m \u001b[0;36m1\u001b[0m\u001b[0;34m:\u001b[0m\u001b[0;34m\u001b[0m\u001b[0;34m\u001b[0m\u001b[0m\n\u001b[0;32m--> 332\u001b[0;31m         raise ValueError(\n\u001b[0m\u001b[1;32m    333\u001b[0m             \u001b[0;34m\"Found input variables with inconsistent numbers of samples: %r\"\u001b[0m\u001b[0;34m\u001b[0m\u001b[0;34m\u001b[0m\u001b[0m\n\u001b[1;32m    334\u001b[0m             \u001b[0;34m%\u001b[0m \u001b[0;34m[\u001b[0m\u001b[0mint\u001b[0m\u001b[0;34m(\u001b[0m\u001b[0ml\u001b[0m\u001b[0;34m)\u001b[0m \u001b[0;32mfor\u001b[0m \u001b[0ml\u001b[0m \u001b[0;32min\u001b[0m \u001b[0mlengths\u001b[0m\u001b[0;34m]\u001b[0m\u001b[0;34m\u001b[0m\u001b[0;34m\u001b[0m\u001b[0m\n",
            "\u001b[0;31mValueError\u001b[0m: Found input variables with inconsistent numbers of samples: [14572, 18215]"
          ]
        }
      ]
    },
    {
      "cell_type": "code",
      "source": [
        "pd.DataFrame(fs1.scores_,x1.columns)"
      ],
      "metadata": {
        "colab": {
          "base_uri": "https://localhost:8080/",
          "height": 426
        },
        "id": "WNQdG2D1J29C",
        "outputId": "c8cca12e-d398-4d1a-b879-854712af1e20"
      },
      "execution_count": null,
      "outputs": [
        {
          "output_type": "execute_result",
          "data": {
            "text/plain": [
              "                                        0\n",
              "index_age                       44.939166\n",
              "total_pre_index_cannisters_365   0.003219\n",
              "pneumonia                        3.909636\n",
              "sinusitis                        3.243201\n",
              "acute_bronchitis                18.037853\n",
              "acute_laryngitis                 4.030667\n",
              "upper_respiratory_infection      4.571595\n",
              "gerd                             8.159614\n",
              "rhinitis                         3.843362\n",
              "drug_s                           6.996502\n",
              "female                          10.957536\n",
              "pre_asthma_days_bin             15.530376"
            ],
            "text/html": [
              "\n",
              "  <div id=\"df-ac0ddc2e-8558-4f84-ae56-7201f0fbafca\">\n",
              "    <div class=\"colab-df-container\">\n",
              "      <div>\n",
              "<style scoped>\n",
              "    .dataframe tbody tr th:only-of-type {\n",
              "        vertical-align: middle;\n",
              "    }\n",
              "\n",
              "    .dataframe tbody tr th {\n",
              "        vertical-align: top;\n",
              "    }\n",
              "\n",
              "    .dataframe thead th {\n",
              "        text-align: right;\n",
              "    }\n",
              "</style>\n",
              "<table border=\"1\" class=\"dataframe\">\n",
              "  <thead>\n",
              "    <tr style=\"text-align: right;\">\n",
              "      <th></th>\n",
              "      <th>0</th>\n",
              "    </tr>\n",
              "  </thead>\n",
              "  <tbody>\n",
              "    <tr>\n",
              "      <th>index_age</th>\n",
              "      <td>44.939166</td>\n",
              "    </tr>\n",
              "    <tr>\n",
              "      <th>total_pre_index_cannisters_365</th>\n",
              "      <td>0.003219</td>\n",
              "    </tr>\n",
              "    <tr>\n",
              "      <th>pneumonia</th>\n",
              "      <td>3.909636</td>\n",
              "    </tr>\n",
              "    <tr>\n",
              "      <th>sinusitis</th>\n",
              "      <td>3.243201</td>\n",
              "    </tr>\n",
              "    <tr>\n",
              "      <th>acute_bronchitis</th>\n",
              "      <td>18.037853</td>\n",
              "    </tr>\n",
              "    <tr>\n",
              "      <th>acute_laryngitis</th>\n",
              "      <td>4.030667</td>\n",
              "    </tr>\n",
              "    <tr>\n",
              "      <th>upper_respiratory_infection</th>\n",
              "      <td>4.571595</td>\n",
              "    </tr>\n",
              "    <tr>\n",
              "      <th>gerd</th>\n",
              "      <td>8.159614</td>\n",
              "    </tr>\n",
              "    <tr>\n",
              "      <th>rhinitis</th>\n",
              "      <td>3.843362</td>\n",
              "    </tr>\n",
              "    <tr>\n",
              "      <th>drug_s</th>\n",
              "      <td>6.996502</td>\n",
              "    </tr>\n",
              "    <tr>\n",
              "      <th>female</th>\n",
              "      <td>10.957536</td>\n",
              "    </tr>\n",
              "    <tr>\n",
              "      <th>pre_asthma_days_bin</th>\n",
              "      <td>15.530376</td>\n",
              "    </tr>\n",
              "  </tbody>\n",
              "</table>\n",
              "</div>\n",
              "      <button class=\"colab-df-convert\" onclick=\"convertToInteractive('df-ac0ddc2e-8558-4f84-ae56-7201f0fbafca')\"\n",
              "              title=\"Convert this dataframe to an interactive table.\"\n",
              "              style=\"display:none;\">\n",
              "        \n",
              "  <svg xmlns=\"http://www.w3.org/2000/svg\" height=\"24px\"viewBox=\"0 0 24 24\"\n",
              "       width=\"24px\">\n",
              "    <path d=\"M0 0h24v24H0V0z\" fill=\"none\"/>\n",
              "    <path d=\"M18.56 5.44l.94 2.06.94-2.06 2.06-.94-2.06-.94-.94-2.06-.94 2.06-2.06.94zm-11 1L8.5 8.5l.94-2.06 2.06-.94-2.06-.94L8.5 2.5l-.94 2.06-2.06.94zm10 10l.94 2.06.94-2.06 2.06-.94-2.06-.94-.94-2.06-.94 2.06-2.06.94z\"/><path d=\"M17.41 7.96l-1.37-1.37c-.4-.4-.92-.59-1.43-.59-.52 0-1.04.2-1.43.59L10.3 9.45l-7.72 7.72c-.78.78-.78 2.05 0 2.83L4 21.41c.39.39.9.59 1.41.59.51 0 1.02-.2 1.41-.59l7.78-7.78 2.81-2.81c.8-.78.8-2.07 0-2.86zM5.41 20L4 18.59l7.72-7.72 1.47 1.35L5.41 20z\"/>\n",
              "  </svg>\n",
              "      </button>\n",
              "      \n",
              "  <style>\n",
              "    .colab-df-container {\n",
              "      display:flex;\n",
              "      flex-wrap:wrap;\n",
              "      gap: 12px;\n",
              "    }\n",
              "\n",
              "    .colab-df-convert {\n",
              "      background-color: #E8F0FE;\n",
              "      border: none;\n",
              "      border-radius: 50%;\n",
              "      cursor: pointer;\n",
              "      display: none;\n",
              "      fill: #1967D2;\n",
              "      height: 32px;\n",
              "      padding: 0 0 0 0;\n",
              "      width: 32px;\n",
              "    }\n",
              "\n",
              "    .colab-df-convert:hover {\n",
              "      background-color: #E2EBFA;\n",
              "      box-shadow: 0px 1px 2px rgba(60, 64, 67, 0.3), 0px 1px 3px 1px rgba(60, 64, 67, 0.15);\n",
              "      fill: #174EA6;\n",
              "    }\n",
              "\n",
              "    [theme=dark] .colab-df-convert {\n",
              "      background-color: #3B4455;\n",
              "      fill: #D2E3FC;\n",
              "    }\n",
              "\n",
              "    [theme=dark] .colab-df-convert:hover {\n",
              "      background-color: #434B5C;\n",
              "      box-shadow: 0px 1px 3px 1px rgba(0, 0, 0, 0.15);\n",
              "      filter: drop-shadow(0px 1px 2px rgba(0, 0, 0, 0.3));\n",
              "      fill: #FFFFFF;\n",
              "    }\n",
              "  </style>\n",
              "\n",
              "      <script>\n",
              "        const buttonEl =\n",
              "          document.querySelector('#df-ac0ddc2e-8558-4f84-ae56-7201f0fbafca button.colab-df-convert');\n",
              "        buttonEl.style.display =\n",
              "          google.colab.kernel.accessAllowed ? 'block' : 'none';\n",
              "\n",
              "        async function convertToInteractive(key) {\n",
              "          const element = document.querySelector('#df-ac0ddc2e-8558-4f84-ae56-7201f0fbafca');\n",
              "          const dataTable =\n",
              "            await google.colab.kernel.invokeFunction('convertToInteractive',\n",
              "                                                     [key], {});\n",
              "          if (!dataTable) return;\n",
              "\n",
              "          const docLinkHtml = 'Like what you see? Visit the ' +\n",
              "            '<a target=\"_blank\" href=https://colab.research.google.com/notebooks/data_table.ipynb>data table notebook</a>'\n",
              "            + ' to learn more about interactive tables.';\n",
              "          element.innerHTML = '';\n",
              "          dataTable['output_type'] = 'display_data';\n",
              "          await google.colab.output.renderOutput(dataTable, element);\n",
              "          const docLink = document.createElement('div');\n",
              "          docLink.innerHTML = docLinkHtml;\n",
              "          element.appendChild(docLink);\n",
              "        }\n",
              "      </script>\n",
              "    </div>\n",
              "  </div>\n",
              "  "
            ]
          },
          "metadata": {},
          "execution_count": 125
        }
      ]
    },
    {
      "cell_type": "code",
      "source": [
        "from sklearn.metrics import accuracy_score\n",
        "from sklearn.linear_model import LogisticRegression\n",
        "# fit the model\n",
        "model1 = LogisticRegression(solver='lbfgs')\n",
        "model1.fit(x1_train_enc, y1_train_enc)\n",
        "# evaluate the model\n",
        "yhat = model1.predict(x1_test_enc)\n",
        "# evaluate predictions\n",
        "accuracy = accuracy_score(y1_test_enc, yhat)\n",
        "print('Accuracy: %.2f' % (accuracy*100))"
      ],
      "metadata": {
        "colab": {
          "base_uri": "https://localhost:8080/"
        },
        "id": "pMhjVWJrJ6EM",
        "outputId": "7d425082-83a9-4bb8-bcaa-e7e563716d02"
      },
      "execution_count": null,
      "outputs": [
        {
          "output_type": "stream",
          "name": "stdout",
          "text": [
            "Accuracy: 88.77\n"
          ]
        },
        {
          "output_type": "stream",
          "name": "stderr",
          "text": [
            "/usr/local/lib/python3.8/dist-packages/sklearn/linear_model/_logistic.py:814: ConvergenceWarning: lbfgs failed to converge (status=1):\n",
            "STOP: TOTAL NO. of ITERATIONS REACHED LIMIT.\n",
            "\n",
            "Increase the number of iterations (max_iter) or scale the data as shown in:\n",
            "    https://scikit-learn.org/stable/modules/preprocessing.html\n",
            "Please also refer to the documentation for alternative solver options:\n",
            "    https://scikit-learn.org/stable/modules/linear_model.html#logistic-regression\n",
            "  n_iter_i = _check_optimize_result(\n"
          ]
        }
      ]
    }
  ]
}